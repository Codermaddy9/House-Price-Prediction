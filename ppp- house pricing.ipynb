{
 "cells": [
  {
   "cell_type": "code",
   "execution_count": 1,
   "id": "6aacd544",
   "metadata": {},
   "outputs": [],
   "source": [
    "import pandas as pd\n",
    "import matplotlib.pyplot as plt\n",
    "import seaborn as sns\n",
    "from sklearn.model_selection import train_test_split\n",
    "from sklearn.linear_model import LinearRegression"
   ]
  },
  {
   "cell_type": "code",
   "execution_count": 2,
   "id": "0be1f806",
   "metadata": {},
   "outputs": [],
   "source": [
    "import statsmodels.api as stm"
   ]
  },
  {
   "cell_type": "code",
   "execution_count": 4,
   "id": "289c2d82",
   "metadata": {},
   "outputs": [
    {
     "data": {
      "text/plain": [
       "Index(['id', 'date', 'price', 'bedrooms', 'bathrooms', 'sqft_living',\n",
       "       'sqft_lot', 'floors', 'waterfront', 'view', 'condition', 'grade',\n",
       "       'sqft_above', 'sqft_basement', 'yr_built', 'yr_renovated', 'zipcode',\n",
       "       'lat', 'long', 'sqft_living15', 'sqft_lot15'],\n",
       "      dtype='object')"
      ]
     },
     "execution_count": 4,
     "metadata": {},
     "output_type": "execute_result"
    }
   ],
   "source": [
    "df.columns"
   ]
  },
  {
   "cell_type": "code",
   "execution_count": 3,
   "id": "3db7e577",
   "metadata": {},
   "outputs": [],
   "source": [
    "df = pd.read_csv('kc_house_data.csv')"
   ]
  },
  {
   "cell_type": "code",
   "execution_count": 5,
   "id": "719b1fd4",
   "metadata": {},
   "outputs": [
    {
     "data": {
      "text/plain": [
       "(array([1.9021e+04, 2.1480e+03, 3.1600e+02, 9.0000e+01, 2.6000e+01,\n",
       "        4.0000e+00, 4.0000e+00, 1.0000e+00, 1.0000e+00, 2.0000e+00]),\n",
       " array([  75000.,  837500., 1600000., 2362500., 3125000., 3887500.,\n",
       "        4650000., 5412500., 6175000., 6937500., 7700000.]),\n",
       " <BarContainer object of 10 artists>)"
      ]
     },
     "execution_count": 5,
     "metadata": {},
     "output_type": "execute_result"
    },
    {
     "data": {
      "image/png": "[encoded data removed]",
      "text/plain": [
       "<Figure size 432x288 with 1 Axes>"
      ]
     },
     "metadata": {
      "needs_background": "light"
     },
     "output_type": "display_data"
    }
   ],
   "source": [
    "plt.hist(df.price)"
   ]
  },
  {
   "cell_type": "code",
   "execution_count": 6,
   "id": "d19970c0",
   "metadata": {},
   "outputs": [
    {
     "name": "stdout",
     "output_type": "stream",
     "text": [
      "<class 'pandas.core.frame.DataFrame'>\n",
      "RangeIndex: 21613 entries, 0 to 21612\n",
      "Data columns (total 21 columns):\n",
      " #   Column         Non-Null Count  Dtype  \n",
      "---  ------         --------------  -----  \n",
      " 0   id             21613 non-null  int64  \n",
      " 1   date           21613 non-null  object \n",
      " 2   price          21613 non-null  float64\n",
      " 3   bedrooms       21613 non-null  int64  \n",
      " 4   bathrooms      21613 non-null  float64\n",
      " 5   sqft_living    21613 non-null  int64  \n",
      " 6   sqft_lot       21613 non-null  int64  \n",
      " 7   floors         21613 non-null  float64\n",
      " 8   waterfront     21613 non-null  int64  \n",
      " 9   view           21613 non-null  int64  \n",
      " 10  condition      21613 non-null  int64  \n",
      " 11  grade          21613 non-null  int64  \n",
      " 12  sqft_above     21611 non-null  float64\n",
      " 13  sqft_basement  21613 non-null  int64  \n",
      " 14  yr_built       21613 non-null  int64  \n",
      " 15  yr_renovated   21613 non-null  int64  \n",
      " 16  zipcode        21613 non-null  int64  \n",
      " 17  lat            21613 non-null  float64\n",
      " 18  long           21613 non-null  float64\n",
      " 19  sqft_living15  21613 non-null  int64  \n",
      " 20  sqft_lot15     21613 non-null  int64  \n",
      "dtypes: float64(6), int64(14), object(1)\n",
      "memory usage: 3.5+ MB\n"
     ]
    }
   ],
   "source": [
    "df.info()"
   ]
  },
  {
   "cell_type": "code",
   "execution_count": 7,
   "id": "afeef545",
   "metadata": {},
   "outputs": [],
   "source": [
    "df1=df.drop(['id','date','lat','long','zipcode','yr_built', 'yr_renovated'],axis=1).dropna()"
   ]
  },
  {
   "cell_type": "code",
   "execution_count": 8,
   "id": "40933bc1",
   "metadata": {},
   "outputs": [
    {
     "name": "stdout",
     "output_type": "stream",
     "text": [
      "<class 'pandas.core.frame.DataFrame'>\n",
      "Int64Index: 21611 entries, 0 to 21612\n",
      "Data columns (total 14 columns):\n",
      " #   Column         Non-Null Count  Dtype  \n",
      "---  ------         --------------  -----  \n",
      " 0   price          21611 non-null  float64\n",
      " 1   bedrooms       21611 non-null  int64  \n",
      " 2   bathrooms      21611 non-null  float64\n",
      " 3   sqft_living    21611 non-null  int64  \n",
      " 4   sqft_lot       21611 non-null  int64  \n",
      " 5   floors         21611 non-null  float64\n",
      " 6   waterfront     21611 non-null  int64  \n",
      " 7   view           21611 non-null  int64  \n",
      " 8   condition      21611 non-null  int64  \n",
      " 9   grade          21611 non-null  int64  \n",
      " 10  sqft_above     21611 non-null  float64\n",
      " 11  sqft_basement  21611 non-null  int64  \n",
      " 12  sqft_living15  21611 non-null  int64  \n",
      " 13  sqft_lot15     21611 non-null  int64  \n",
      "dtypes: float64(4), int64(10)\n",
      "memory usage: 2.5 MB\n"
     ]
    }
   ],
   "source": [
    "df1.info()"
   ]
  },
  {
   "cell_type": "code",
   "execution_count": 9,
   "id": "308b8413",
   "metadata": {},
   "outputs": [],
   "source": [
    "X = df1.drop(['price'],axis=1)\n",
    "y = df1.price"
   ]
  },
  {
   "cell_type": "code",
   "execution_count": 10,
   "id": "ee4d121f",
   "metadata": {},
   "outputs": [],
   "source": [
    "import pandas as pd\n",
    "import numpy as np\n",
    "\n",
    "pd.set_option('display.float_format', lambda x: '%.5f' % x)\n",
    "\n",
    "data = pd.DataFrame()"
   ]
  },
  {
   "cell_type": "code",
   "execution_count": 11,
   "id": "8a6df035",
   "metadata": {},
   "outputs": [
    {
     "data": {
      "text/html": [
       "<div>\n",
       "<style scoped>\n",
       "    .dataframe tbody tr th:only-of-type {\n",
       "        vertical-align: middle;\n",
       "    }\n",
       "\n",
       "    .dataframe tbody tr th {\n",
       "        vertical-align: top;\n",
       "    }\n",
       "\n",
       "    .dataframe thead th {\n",
       "        text-align: right;\n",
       "    }\n",
       "</style>\n",
       "<table border=\"1\" class=\"dataframe\">\n",
       "  <thead>\n",
       "    <tr style=\"text-align: right;\">\n",
       "      <th></th>\n",
       "      <th>price</th>\n",
       "      <th>bedrooms</th>\n",
       "      <th>bathrooms</th>\n",
       "      <th>sqft_living</th>\n",
       "      <th>sqft_lot</th>\n",
       "      <th>floors</th>\n",
       "      <th>waterfront</th>\n",
       "      <th>view</th>\n",
       "      <th>condition</th>\n",
       "      <th>grade</th>\n",
       "      <th>sqft_above</th>\n",
       "      <th>sqft_basement</th>\n",
       "      <th>sqft_living15</th>\n",
       "      <th>sqft_lot15</th>\n",
       "    </tr>\n",
       "  </thead>\n",
       "  <tbody>\n",
       "    <tr>\n",
       "      <th>count</th>\n",
       "      <td>21611.00000</td>\n",
       "      <td>21611.00000</td>\n",
       "      <td>21611.00000</td>\n",
       "      <td>21611.00000</td>\n",
       "      <td>21611.00000</td>\n",
       "      <td>21611.00000</td>\n",
       "      <td>21611.00000</td>\n",
       "      <td>21611.00000</td>\n",
       "      <td>21611.00000</td>\n",
       "      <td>21611.00000</td>\n",
       "      <td>21611.00000</td>\n",
       "      <td>21611.00000</td>\n",
       "      <td>21611.00000</td>\n",
       "      <td>21611.00000</td>\n",
       "    </tr>\n",
       "    <tr>\n",
       "      <th>mean</th>\n",
       "      <td>540085.02651</td>\n",
       "      <td>3.37083</td>\n",
       "      <td>2.11479</td>\n",
       "      <td>2079.85345</td>\n",
       "      <td>15107.71339</td>\n",
       "      <td>1.49433</td>\n",
       "      <td>0.00754</td>\n",
       "      <td>0.23433</td>\n",
       "      <td>3.40942</td>\n",
       "      <td>7.65689</td>\n",
       "      <td>1788.39609</td>\n",
       "      <td>291.45736</td>\n",
       "      <td>1986.55958</td>\n",
       "      <td>12769.02536</td>\n",
       "    </tr>\n",
       "    <tr>\n",
       "      <th>std</th>\n",
       "      <td>367143.04926</td>\n",
       "      <td>0.93009</td>\n",
       "      <td>0.77016</td>\n",
       "      <td>918.42241</td>\n",
       "      <td>41422.34720</td>\n",
       "      <td>0.54000</td>\n",
       "      <td>0.08652</td>\n",
       "      <td>0.76635</td>\n",
       "      <td>0.65075</td>\n",
       "      <td>1.17550</td>\n",
       "      <td>828.12816</td>\n",
       "      <td>442.48735</td>\n",
       "      <td>685.41655</td>\n",
       "      <td>27305.36981</td>\n",
       "    </tr>\n",
       "    <tr>\n",
       "      <th>min</th>\n",
       "      <td>75000.00000</td>\n",
       "      <td>0.00000</td>\n",
       "      <td>0.00000</td>\n",
       "      <td>290.00000</td>\n",
       "      <td>520.00000</td>\n",
       "      <td>1.00000</td>\n",
       "      <td>0.00000</td>\n",
       "      <td>0.00000</td>\n",
       "      <td>1.00000</td>\n",
       "      <td>1.00000</td>\n",
       "      <td>290.00000</td>\n",
       "      <td>0.00000</td>\n",
       "      <td>399.00000</td>\n",
       "      <td>651.00000</td>\n",
       "    </tr>\n",
       "    <tr>\n",
       "      <th>25%</th>\n",
       "      <td>321725.00000</td>\n",
       "      <td>3.00000</td>\n",
       "      <td>1.75000</td>\n",
       "      <td>1426.00000</td>\n",
       "      <td>5040.00000</td>\n",
       "      <td>1.00000</td>\n",
       "      <td>0.00000</td>\n",
       "      <td>0.00000</td>\n",
       "      <td>3.00000</td>\n",
       "      <td>7.00000</td>\n",
       "      <td>1190.00000</td>\n",
       "      <td>0.00000</td>\n",
       "      <td>1490.00000</td>\n",
       "      <td>5100.00000</td>\n",
       "    </tr>\n",
       "    <tr>\n",
       "      <th>50%</th>\n",
       "      <td>450000.00000</td>\n",
       "      <td>3.00000</td>\n",
       "      <td>2.25000</td>\n",
       "      <td>1910.00000</td>\n",
       "      <td>7618.00000</td>\n",
       "      <td>1.50000</td>\n",
       "      <td>0.00000</td>\n",
       "      <td>0.00000</td>\n",
       "      <td>3.00000</td>\n",
       "      <td>7.00000</td>\n",
       "      <td>1560.00000</td>\n",
       "      <td>0.00000</td>\n",
       "      <td>1840.00000</td>\n",
       "      <td>7620.00000</td>\n",
       "    </tr>\n",
       "    <tr>\n",
       "      <th>75%</th>\n",
       "      <td>645000.00000</td>\n",
       "      <td>4.00000</td>\n",
       "      <td>2.50000</td>\n",
       "      <td>2550.00000</td>\n",
       "      <td>10688.50000</td>\n",
       "      <td>2.00000</td>\n",
       "      <td>0.00000</td>\n",
       "      <td>0.00000</td>\n",
       "      <td>4.00000</td>\n",
       "      <td>8.00000</td>\n",
       "      <td>2210.00000</td>\n",
       "      <td>560.00000</td>\n",
       "      <td>2360.00000</td>\n",
       "      <td>10083.50000</td>\n",
       "    </tr>\n",
       "    <tr>\n",
       "      <th>max</th>\n",
       "      <td>7700000.00000</td>\n",
       "      <td>33.00000</td>\n",
       "      <td>8.00000</td>\n",
       "      <td>13540.00000</td>\n",
       "      <td>1651359.00000</td>\n",
       "      <td>3.50000</td>\n",
       "      <td>1.00000</td>\n",
       "      <td>4.00000</td>\n",
       "      <td>5.00000</td>\n",
       "      <td>13.00000</td>\n",
       "      <td>9410.00000</td>\n",
       "      <td>4820.00000</td>\n",
       "      <td>6210.00000</td>\n",
       "      <td>871200.00000</td>\n",
       "    </tr>\n",
       "  </tbody>\n",
       "</table>\n",
       "</div>"
      ],
      "text/plain": [
       "              price    bedrooms   bathrooms  sqft_living      sqft_lot  \\\n",
       "count   21611.00000 21611.00000 21611.00000  21611.00000   21611.00000   \n",
       "mean   540085.02651     3.37083     2.11479   2079.85345   15107.71339   \n",
       "std    367143.04926     0.93009     0.77016    918.42241   41422.34720   \n",
       "min     75000.00000     0.00000     0.00000    290.00000     520.00000   \n",
       "25%    321725.00000     3.00000     1.75000   1426.00000    5040.00000   \n",
       "50%    450000.00000     3.00000     2.25000   1910.00000    7618.00000   \n",
       "75%    645000.00000     4.00000     2.50000   2550.00000   10688.50000   \n",
       "max   7700000.00000    33.00000     8.00000  13540.00000 1651359.00000   \n",
       "\n",
       "           floors  waterfront        view   condition       grade  sqft_above  \\\n",
       "count 21611.00000 21611.00000 21611.00000 21611.00000 21611.00000 21611.00000   \n",
       "mean      1.49433     0.00754     0.23433     3.40942     7.65689  1788.39609   \n",
       "std       0.54000     0.08652     0.76635     0.65075     1.17550   828.12816   \n",
       "min       1.00000     0.00000     0.00000     1.00000     1.00000   290.00000   \n",
       "25%       1.00000     0.00000     0.00000     3.00000     7.00000  1190.00000   \n",
       "50%       1.50000     0.00000     0.00000     3.00000     7.00000  1560.00000   \n",
       "75%       2.00000     0.00000     0.00000     4.00000     8.00000  2210.00000   \n",
       "max       3.50000     1.00000     4.00000     5.00000    13.00000  9410.00000   \n",
       "\n",
       "       sqft_basement  sqft_living15   sqft_lot15  \n",
       "count    21611.00000    21611.00000  21611.00000  \n",
       "mean       291.45736     1986.55958  12769.02536  \n",
       "std        442.48735      685.41655  27305.36981  \n",
       "min          0.00000      399.00000    651.00000  \n",
       "25%          0.00000     1490.00000   5100.00000  \n",
       "50%          0.00000     1840.00000   7620.00000  \n",
       "75%        560.00000     2360.00000  10083.50000  \n",
       "max       4820.00000     6210.00000 871200.00000  "
      ]
     },
     "execution_count": 11,
     "metadata": {},
     "output_type": "execute_result"
    }
   ],
   "source": [
    "df1.describe()"
   ]
  },
  {
   "cell_type": "code",
   "execution_count": 22,
   "id": "b228ad1c",
   "metadata": {},
   "outputs": [
    {
     "data": {
      "text/plain": [
       "7     8981\n",
       "8     6068\n",
       "9     2615\n",
       "6     2038\n",
       "10    1134\n",
       "11     399\n",
       "5      242\n",
       "12      90\n",
       "4       29\n",
       "13      13\n",
       "3        3\n",
       "1        1\n",
       "Name: grade, dtype: int64"
      ]
     },
     "execution_count": 22,
     "metadata": {},
     "output_type": "execute_result"
    }
   ],
   "source": [
    "df.grade.value_counts()"
   ]
  },
  {
   "cell_type": "code",
   "execution_count": 12,
   "id": "52446e75",
   "metadata": {},
   "outputs": [
    {
     "data": {
      "text/plain": [
       "(21613, 21)"
      ]
     },
     "execution_count": 12,
     "metadata": {},
     "output_type": "execute_result"
    }
   ],
   "source": [
    "df.shape"
   ]
  },
  {
   "cell_type": "code",
   "execution_count": 13,
   "id": "df204e06",
   "metadata": {},
   "outputs": [
    {
     "name": "stdout",
     "output_type": "stream",
     "text": [
      "<class 'pandas.core.frame.DataFrame'>\n",
      "Int64Index: 21611 entries, 0 to 21612\n",
      "Data columns (total 13 columns):\n",
      " #   Column         Non-Null Count  Dtype  \n",
      "---  ------         --------------  -----  \n",
      " 0   bedrooms       21611 non-null  int64  \n",
      " 1   bathrooms      21611 non-null  float64\n",
      " 2   sqft_living    21611 non-null  int64  \n",
      " 3   sqft_lot       21611 non-null  int64  \n",
      " 4   floors         21611 non-null  float64\n",
      " 5   waterfront     21611 non-null  int64  \n",
      " 6   view           21611 non-null  int64  \n",
      " 7   condition      21611 non-null  int64  \n",
      " 8   grade          21611 non-null  int64  \n",
      " 9   sqft_above     21611 non-null  float64\n",
      " 10  sqft_basement  21611 non-null  int64  \n",
      " 11  sqft_living15  21611 non-null  int64  \n",
      " 12  sqft_lot15     21611 non-null  int64  \n",
      "dtypes: float64(3), int64(10)\n",
      "memory usage: 2.3 MB\n"
     ]
    }
   ],
   "source": [
    "X.info()"
   ]
  },
  {
   "cell_type": "code",
   "execution_count": 14,
   "id": "ddd7cf76",
   "metadata": {},
   "outputs": [
    {
     "data": {
      "text/plain": [
       "0       221900.00000\n",
       "1       538000.00000\n",
       "2       180000.00000\n",
       "3       604000.00000\n",
       "4       510000.00000\n",
       "            ...     \n",
       "21608   360000.00000\n",
       "21609   400000.00000\n",
       "21610   402101.00000\n",
       "21611   400000.00000\n",
       "21612   325000.00000\n",
       "Name: price, Length: 21611, dtype: float64"
      ]
     },
     "execution_count": 14,
     "metadata": {},
     "output_type": "execute_result"
    }
   ],
   "source": [
    "y"
   ]
  },
  {
   "cell_type": "code",
   "execution_count": 15,
   "id": "29250fb9",
   "metadata": {},
   "outputs": [
    {
     "data": {
      "text/html": [
       "<div>\n",
       "<style scoped>\n",
       "    .dataframe tbody tr th:only-of-type {\n",
       "        vertical-align: middle;\n",
       "    }\n",
       "\n",
       "    .dataframe tbody tr th {\n",
       "        vertical-align: top;\n",
       "    }\n",
       "\n",
       "    .dataframe thead th {\n",
       "        text-align: right;\n",
       "    }\n",
       "</style>\n",
       "<table border=\"1\" class=\"dataframe\">\n",
       "  <thead>\n",
       "    <tr style=\"text-align: right;\">\n",
       "      <th></th>\n",
       "      <th>id</th>\n",
       "      <th>price</th>\n",
       "      <th>bedrooms</th>\n",
       "      <th>bathrooms</th>\n",
       "      <th>sqft_living</th>\n",
       "      <th>sqft_lot</th>\n",
       "      <th>floors</th>\n",
       "      <th>waterfront</th>\n",
       "      <th>view</th>\n",
       "      <th>condition</th>\n",
       "      <th>grade</th>\n",
       "      <th>sqft_above</th>\n",
       "      <th>sqft_basement</th>\n",
       "      <th>yr_built</th>\n",
       "      <th>yr_renovated</th>\n",
       "      <th>zipcode</th>\n",
       "      <th>lat</th>\n",
       "      <th>long</th>\n",
       "      <th>sqft_living15</th>\n",
       "      <th>sqft_lot15</th>\n",
       "    </tr>\n",
       "  </thead>\n",
       "  <tbody>\n",
       "    <tr>\n",
       "      <th>0</th>\n",
       "      <td>7129300520</td>\n",
       "      <td>221900.00000</td>\n",
       "      <td>3</td>\n",
       "      <td>1.00000</td>\n",
       "      <td>1180</td>\n",
       "      <td>5650</td>\n",
       "      <td>1.00000</td>\n",
       "      <td>0</td>\n",
       "      <td>0</td>\n",
       "      <td>3</td>\n",
       "      <td>7</td>\n",
       "      <td>1180.00000</td>\n",
       "      <td>0</td>\n",
       "      <td>1955</td>\n",
       "      <td>0</td>\n",
       "      <td>98178</td>\n",
       "      <td>47.51120</td>\n",
       "      <td>-122.25700</td>\n",
       "      <td>1340</td>\n",
       "      <td>5650</td>\n",
       "    </tr>\n",
       "    <tr>\n",
       "      <th>1</th>\n",
       "      <td>6414100192</td>\n",
       "      <td>538000.00000</td>\n",
       "      <td>3</td>\n",
       "      <td>2.25000</td>\n",
       "      <td>2570</td>\n",
       "      <td>7242</td>\n",
       "      <td>2.00000</td>\n",
       "      <td>0</td>\n",
       "      <td>0</td>\n",
       "      <td>3</td>\n",
       "      <td>7</td>\n",
       "      <td>2170.00000</td>\n",
       "      <td>400</td>\n",
       "      <td>1951</td>\n",
       "      <td>1991</td>\n",
       "      <td>98125</td>\n",
       "      <td>47.72100</td>\n",
       "      <td>-122.31900</td>\n",
       "      <td>1690</td>\n",
       "      <td>7639</td>\n",
       "    </tr>\n",
       "    <tr>\n",
       "      <th>2</th>\n",
       "      <td>5631500400</td>\n",
       "      <td>180000.00000</td>\n",
       "      <td>2</td>\n",
       "      <td>1.00000</td>\n",
       "      <td>770</td>\n",
       "      <td>10000</td>\n",
       "      <td>1.00000</td>\n",
       "      <td>0</td>\n",
       "      <td>0</td>\n",
       "      <td>3</td>\n",
       "      <td>6</td>\n",
       "      <td>770.00000</td>\n",
       "      <td>0</td>\n",
       "      <td>1933</td>\n",
       "      <td>0</td>\n",
       "      <td>98028</td>\n",
       "      <td>47.73790</td>\n",
       "      <td>-122.23300</td>\n",
       "      <td>2720</td>\n",
       "      <td>8062</td>\n",
       "    </tr>\n",
       "    <tr>\n",
       "      <th>3</th>\n",
       "      <td>2487200875</td>\n",
       "      <td>604000.00000</td>\n",
       "      <td>4</td>\n",
       "      <td>3.00000</td>\n",
       "      <td>1960</td>\n",
       "      <td>5000</td>\n",
       "      <td>1.00000</td>\n",
       "      <td>0</td>\n",
       "      <td>0</td>\n",
       "      <td>5</td>\n",
       "      <td>7</td>\n",
       "      <td>1050.00000</td>\n",
       "      <td>910</td>\n",
       "      <td>1965</td>\n",
       "      <td>0</td>\n",
       "      <td>98136</td>\n",
       "      <td>47.52080</td>\n",
       "      <td>-122.39300</td>\n",
       "      <td>1360</td>\n",
       "      <td>5000</td>\n",
       "    </tr>\n",
       "    <tr>\n",
       "      <th>4</th>\n",
       "      <td>1954400510</td>\n",
       "      <td>510000.00000</td>\n",
       "      <td>3</td>\n",
       "      <td>2.00000</td>\n",
       "      <td>1680</td>\n",
       "      <td>8080</td>\n",
       "      <td>1.00000</td>\n",
       "      <td>0</td>\n",
       "      <td>0</td>\n",
       "      <td>3</td>\n",
       "      <td>8</td>\n",
       "      <td>1680.00000</td>\n",
       "      <td>0</td>\n",
       "      <td>1987</td>\n",
       "      <td>0</td>\n",
       "      <td>98074</td>\n",
       "      <td>47.61680</td>\n",
       "      <td>-122.04500</td>\n",
       "      <td>1800</td>\n",
       "      <td>7503</td>\n",
       "    </tr>\n",
       "    <tr>\n",
       "      <th>...</th>\n",
       "      <td>...</td>\n",
       "      <td>...</td>\n",
       "      <td>...</td>\n",
       "      <td>...</td>\n",
       "      <td>...</td>\n",
       "      <td>...</td>\n",
       "      <td>...</td>\n",
       "      <td>...</td>\n",
       "      <td>...</td>\n",
       "      <td>...</td>\n",
       "      <td>...</td>\n",
       "      <td>...</td>\n",
       "      <td>...</td>\n",
       "      <td>...</td>\n",
       "      <td>...</td>\n",
       "      <td>...</td>\n",
       "      <td>...</td>\n",
       "      <td>...</td>\n",
       "      <td>...</td>\n",
       "      <td>...</td>\n",
       "    </tr>\n",
       "    <tr>\n",
       "      <th>21608</th>\n",
       "      <td>263000018</td>\n",
       "      <td>360000.00000</td>\n",
       "      <td>3</td>\n",
       "      <td>2.50000</td>\n",
       "      <td>1530</td>\n",
       "      <td>1131</td>\n",
       "      <td>3.00000</td>\n",
       "      <td>0</td>\n",
       "      <td>0</td>\n",
       "      <td>3</td>\n",
       "      <td>8</td>\n",
       "      <td>1530.00000</td>\n",
       "      <td>0</td>\n",
       "      <td>2009</td>\n",
       "      <td>0</td>\n",
       "      <td>98103</td>\n",
       "      <td>47.69930</td>\n",
       "      <td>-122.34600</td>\n",
       "      <td>1530</td>\n",
       "      <td>1509</td>\n",
       "    </tr>\n",
       "    <tr>\n",
       "      <th>21609</th>\n",
       "      <td>6600060120</td>\n",
       "      <td>400000.00000</td>\n",
       "      <td>4</td>\n",
       "      <td>2.50000</td>\n",
       "      <td>2310</td>\n",
       "      <td>5813</td>\n",
       "      <td>2.00000</td>\n",
       "      <td>0</td>\n",
       "      <td>0</td>\n",
       "      <td>3</td>\n",
       "      <td>8</td>\n",
       "      <td>2310.00000</td>\n",
       "      <td>0</td>\n",
       "      <td>2014</td>\n",
       "      <td>0</td>\n",
       "      <td>98146</td>\n",
       "      <td>47.51070</td>\n",
       "      <td>-122.36200</td>\n",
       "      <td>1830</td>\n",
       "      <td>7200</td>\n",
       "    </tr>\n",
       "    <tr>\n",
       "      <th>21610</th>\n",
       "      <td>1523300141</td>\n",
       "      <td>402101.00000</td>\n",
       "      <td>2</td>\n",
       "      <td>0.75000</td>\n",
       "      <td>1020</td>\n",
       "      <td>1350</td>\n",
       "      <td>2.00000</td>\n",
       "      <td>0</td>\n",
       "      <td>0</td>\n",
       "      <td>3</td>\n",
       "      <td>7</td>\n",
       "      <td>1020.00000</td>\n",
       "      <td>0</td>\n",
       "      <td>2009</td>\n",
       "      <td>0</td>\n",
       "      <td>98144</td>\n",
       "      <td>47.59440</td>\n",
       "      <td>-122.29900</td>\n",
       "      <td>1020</td>\n",
       "      <td>2007</td>\n",
       "    </tr>\n",
       "    <tr>\n",
       "      <th>21611</th>\n",
       "      <td>291310100</td>\n",
       "      <td>400000.00000</td>\n",
       "      <td>3</td>\n",
       "      <td>2.50000</td>\n",
       "      <td>1600</td>\n",
       "      <td>2388</td>\n",
       "      <td>2.00000</td>\n",
       "      <td>0</td>\n",
       "      <td>0</td>\n",
       "      <td>3</td>\n",
       "      <td>8</td>\n",
       "      <td>1600.00000</td>\n",
       "      <td>0</td>\n",
       "      <td>2004</td>\n",
       "      <td>0</td>\n",
       "      <td>98027</td>\n",
       "      <td>47.53450</td>\n",
       "      <td>-122.06900</td>\n",
       "      <td>1410</td>\n",
       "      <td>1287</td>\n",
       "    </tr>\n",
       "    <tr>\n",
       "      <th>21612</th>\n",
       "      <td>1523300157</td>\n",
       "      <td>325000.00000</td>\n",
       "      <td>2</td>\n",
       "      <td>0.75000</td>\n",
       "      <td>1020</td>\n",
       "      <td>1076</td>\n",
       "      <td>2.00000</td>\n",
       "      <td>0</td>\n",
       "      <td>0</td>\n",
       "      <td>3</td>\n",
       "      <td>7</td>\n",
       "      <td>1020.00000</td>\n",
       "      <td>0</td>\n",
       "      <td>2008</td>\n",
       "      <td>0</td>\n",
       "      <td>98144</td>\n",
       "      <td>47.59410</td>\n",
       "      <td>-122.29900</td>\n",
       "      <td>1020</td>\n",
       "      <td>1357</td>\n",
       "    </tr>\n",
       "  </tbody>\n",
       "</table>\n",
       "<p>21613 rows × 20 columns</p>\n",
       "</div>"
      ],
      "text/plain": [
       "               id        price  bedrooms  bathrooms  sqft_living  sqft_lot  \\\n",
       "0      7129300520 221900.00000         3    1.00000         1180      5650   \n",
       "1      6414100192 538000.00000         3    2.25000         2570      7242   \n",
       "2      5631500400 180000.00000         2    1.00000          770     10000   \n",
       "3      2487200875 604000.00000         4    3.00000         1960      5000   \n",
       "4      1954400510 510000.00000         3    2.00000         1680      8080   \n",
       "...           ...          ...       ...        ...          ...       ...   \n",
       "21608   263000018 360000.00000         3    2.50000         1530      1131   \n",
       "21609  6600060120 400000.00000         4    2.50000         2310      5813   \n",
       "21610  1523300141 402101.00000         2    0.75000         1020      1350   \n",
       "21611   291310100 400000.00000         3    2.50000         1600      2388   \n",
       "21612  1523300157 325000.00000         2    0.75000         1020      1076   \n",
       "\n",
       "       floors  waterfront  view  condition  grade  sqft_above  sqft_basement  \\\n",
       "0     1.00000           0     0          3      7  1180.00000              0   \n",
       "1     2.00000           0     0          3      7  2170.00000            400   \n",
       "2     1.00000           0     0          3      6   770.00000              0   \n",
       "3     1.00000           0     0          5      7  1050.00000            910   \n",
       "4     1.00000           0     0          3      8  1680.00000              0   \n",
       "...       ...         ...   ...        ...    ...         ...            ...   \n",
       "21608 3.00000           0     0          3      8  1530.00000              0   \n",
       "21609 2.00000           0     0          3      8  2310.00000              0   \n",
       "21610 2.00000           0     0          3      7  1020.00000              0   \n",
       "21611 2.00000           0     0          3      8  1600.00000              0   \n",
       "21612 2.00000           0     0          3      7  1020.00000              0   \n",
       "\n",
       "       yr_built  yr_renovated  zipcode      lat       long  sqft_living15  \\\n",
       "0          1955             0    98178 47.51120 -122.25700           1340   \n",
       "1          1951          1991    98125 47.72100 -122.31900           1690   \n",
       "2          1933             0    98028 47.73790 -122.23300           2720   \n",
       "3          1965             0    98136 47.52080 -122.39300           1360   \n",
       "4          1987             0    98074 47.61680 -122.04500           1800   \n",
       "...         ...           ...      ...      ...        ...            ...   \n",
       "21608      2009             0    98103 47.69930 -122.34600           1530   \n",
       "21609      2014             0    98146 47.51070 -122.36200           1830   \n",
       "21610      2009             0    98144 47.59440 -122.29900           1020   \n",
       "21611      2004             0    98027 47.53450 -122.06900           1410   \n",
       "21612      2008             0    98144 47.59410 -122.29900           1020   \n",
       "\n",
       "       sqft_lot15  \n",
       "0            5650  \n",
       "1            7639  \n",
       "2            8062  \n",
       "3            5000  \n",
       "4            7503  \n",
       "...           ...  \n",
       "21608        1509  \n",
       "21609        7200  \n",
       "21610        2007  \n",
       "21611        1287  \n",
       "21612        1357  \n",
       "\n",
       "[21613 rows x 20 columns]"
      ]
     },
     "execution_count": 15,
     "metadata": {},
     "output_type": "execute_result"
    }
   ],
   "source": [
    "df.drop(columns='date')"
   ]
  },
  {
   "cell_type": "code",
   "execution_count": 17,
   "id": "d583ba65",
   "metadata": {},
   "outputs": [
    {
     "data": {
      "text/plain": [
       "33       1\n",
       "11       1\n",
       "10       3\n",
       "9        6\n",
       "0       13\n",
       "8       13\n",
       "7       38\n",
       "1      199\n",
       "6      272\n",
       "5     1601\n",
       "2     2760\n",
       "4     6882\n",
       "3     9824\n",
       "Name: bedrooms, dtype: int64"
      ]
     },
     "execution_count": 17,
     "metadata": {},
     "output_type": "execute_result"
    }
   ],
   "source": [
    "df.bedrooms.value_counts(ascending=True)"
   ]
  },
  {
   "cell_type": "code",
   "execution_count": 26,
   "id": "4e7aa80e",
   "metadata": {},
   "outputs": [
    {
     "data": {
      "text/plain": [
       "array([[<AxesSubplot:title={'center':'price'}>]], dtype=object)"
      ]
     },
     "execution_count": 26,
     "metadata": {},
     "output_type": "execute_result"
    },
    {
     "data": {
      "image/png": "[encoded data removed]",
      "text/plain": [
       "<Figure size 432x288 with 1 Axes>"
      ]
     },
     "metadata": {
      "needs_background": "light"
     },
     "output_type": "display_data"
    }
   ],
   "source": [
    "df.hist(column='price')"
   ]
  },
  {
   "cell_type": "code",
   "execution_count": 27,
   "id": "60a9ea81",
   "metadata": {},
   "outputs": [
    {
     "data": {
      "text/plain": [
       "<AxesSubplot:>"
      ]
     },
     "execution_count": 27,
     "metadata": {},
     "output_type": "execute_result"
    },
    {
     "data": {
      "image/png": "[encoded data removed]",
      "text/plain": [
       "<Figure size 432x288 with 1 Axes>"
      ]
     },
     "metadata": {
      "needs_background": "light"
     },
     "output_type": "display_data"
    }
   ],
   "source": [
    "df.boxplot(column='price')"
   ]
  },
  {
   "cell_type": "code",
   "execution_count": 31,
   "id": "5839e752",
   "metadata": {},
   "outputs": [
    {
     "data": {
      "text/plain": [
       "3     9824\n",
       "4     6882\n",
       "2     2760\n",
       "5     1601\n",
       "6      272\n",
       "1      199\n",
       "7       38\n",
       "0       13\n",
       "8       13\n",
       "9        6\n",
       "10       3\n",
       "33       1\n",
       "11       1\n",
       "Name: bedrooms, dtype: int64"
      ]
     },
     "execution_count": 31,
     "metadata": {},
     "output_type": "execute_result"
    }
   ],
   "source": [
    "df.bedrooms.value_counts()"
   ]
  },
  {
   "cell_type": "code",
   "execution_count": 43,
   "id": "f6908096",
   "metadata": {},
   "outputs": [
    {
     "data": {
      "text/plain": [
       "2.50000    5380\n",
       "1.00000    3852\n",
       "1.75000    3048\n",
       "2.25000    2047\n",
       "2.00000    1930\n",
       "1.50000    1446\n",
       "2.75000    1185\n",
       "3.00000     753\n",
       "3.50000     731\n",
       "3.25000     589\n",
       "3.75000     155\n",
       "4.00000     136\n",
       "4.50000     100\n",
       "4.25000      79\n",
       "0.75000      72\n",
       "4.75000      23\n",
       "5.00000      21\n",
       "5.25000      13\n",
       "0.00000      10\n",
       "5.50000      10\n",
       "1.25000       9\n",
       "6.00000       6\n",
       "5.75000       4\n",
       "0.50000       4\n",
       "6.25000       2\n",
       "8.00000       2\n",
       "6.75000       2\n",
       "6.50000       2\n",
       "7.75000       1\n",
       "7.50000       1\n",
       "Name: bathrooms, dtype: int64"
      ]
     },
     "execution_count": 43,
     "metadata": {},
     "output_type": "execute_result"
    }
   ],
   "source": [
    "df.bathrooms.value_counts()"
   ]
  },
  {
   "cell_type": "code",
   "execution_count": 24,
   "id": "e773016b",
   "metadata": {},
   "outputs": [
    {
     "data": {
      "text/html": [
       "<div>\n",
       "<style scoped>\n",
       "    .dataframe tbody tr th:only-of-type {\n",
       "        vertical-align: middle;\n",
       "    }\n",
       "\n",
       "    .dataframe tbody tr th {\n",
       "        vertical-align: top;\n",
       "    }\n",
       "\n",
       "    .dataframe thead th {\n",
       "        text-align: right;\n",
       "    }\n",
       "</style>\n",
       "<table border=\"1\" class=\"dataframe\">\n",
       "  <thead>\n",
       "    <tr style=\"text-align: right;\">\n",
       "      <th></th>\n",
       "      <th>id</th>\n",
       "      <th>price</th>\n",
       "      <th>bedrooms</th>\n",
       "      <th>bathrooms</th>\n",
       "      <th>sqft_living</th>\n",
       "      <th>sqft_lot</th>\n",
       "      <th>floors</th>\n",
       "      <th>waterfront</th>\n",
       "      <th>view</th>\n",
       "      <th>condition</th>\n",
       "      <th>grade</th>\n",
       "      <th>sqft_above</th>\n",
       "      <th>sqft_basement</th>\n",
       "      <th>yr_built</th>\n",
       "      <th>yr_renovated</th>\n",
       "      <th>zipcode</th>\n",
       "      <th>lat</th>\n",
       "      <th>long</th>\n",
       "      <th>sqft_living15</th>\n",
       "      <th>sqft_lot15</th>\n",
       "    </tr>\n",
       "  </thead>\n",
       "  <tbody>\n",
       "    <tr>\n",
       "      <th>count</th>\n",
       "      <td>21613.00000</td>\n",
       "      <td>21613.00000</td>\n",
       "      <td>21613.00000</td>\n",
       "      <td>21613.00000</td>\n",
       "      <td>21613.00000</td>\n",
       "      <td>21613.00000</td>\n",
       "      <td>21613.00000</td>\n",
       "      <td>21613.00000</td>\n",
       "      <td>21613.00000</td>\n",
       "      <td>21613.00000</td>\n",
       "      <td>21613.00000</td>\n",
       "      <td>21611.00000</td>\n",
       "      <td>21613.00000</td>\n",
       "      <td>21613.00000</td>\n",
       "      <td>21613.00000</td>\n",
       "      <td>21613.00000</td>\n",
       "      <td>21613.00000</td>\n",
       "      <td>21613.00000</td>\n",
       "      <td>21613.00000</td>\n",
       "      <td>21613.00000</td>\n",
       "    </tr>\n",
       "    <tr>\n",
       "      <th>mean</th>\n",
       "      <td>4580301520.86499</td>\n",
       "      <td>540088.14177</td>\n",
       "      <td>3.37084</td>\n",
       "      <td>2.11476</td>\n",
       "      <td>2079.89974</td>\n",
       "      <td>15106.96757</td>\n",
       "      <td>1.49431</td>\n",
       "      <td>0.00754</td>\n",
       "      <td>0.23430</td>\n",
       "      <td>3.40943</td>\n",
       "      <td>7.65687</td>\n",
       "      <td>1788.39609</td>\n",
       "      <td>291.50905</td>\n",
       "      <td>1971.00514</td>\n",
       "      <td>84.40226</td>\n",
       "      <td>98077.93980</td>\n",
       "      <td>47.56005</td>\n",
       "      <td>-122.21390</td>\n",
       "      <td>1986.55249</td>\n",
       "      <td>12768.45565</td>\n",
       "    </tr>\n",
       "    <tr>\n",
       "      <th>std</th>\n",
       "      <td>2876565571.31205</td>\n",
       "      <td>367127.19648</td>\n",
       "      <td>0.93006</td>\n",
       "      <td>0.77016</td>\n",
       "      <td>918.44090</td>\n",
       "      <td>41420.51152</td>\n",
       "      <td>0.53999</td>\n",
       "      <td>0.08652</td>\n",
       "      <td>0.76632</td>\n",
       "      <td>0.65074</td>\n",
       "      <td>1.17546</td>\n",
       "      <td>828.12816</td>\n",
       "      <td>442.57504</td>\n",
       "      <td>29.37341</td>\n",
       "      <td>401.67924</td>\n",
       "      <td>53.50503</td>\n",
       "      <td>0.13856</td>\n",
       "      <td>0.14083</td>\n",
       "      <td>685.39130</td>\n",
       "      <td>27304.17963</td>\n",
       "    </tr>\n",
       "    <tr>\n",
       "      <th>min</th>\n",
       "      <td>1000102.00000</td>\n",
       "      <td>75000.00000</td>\n",
       "      <td>0.00000</td>\n",
       "      <td>0.00000</td>\n",
       "      <td>290.00000</td>\n",
       "      <td>520.00000</td>\n",
       "      <td>1.00000</td>\n",
       "      <td>0.00000</td>\n",
       "      <td>0.00000</td>\n",
       "      <td>1.00000</td>\n",
       "      <td>1.00000</td>\n",
       "      <td>290.00000</td>\n",
       "      <td>0.00000</td>\n",
       "      <td>1900.00000</td>\n",
       "      <td>0.00000</td>\n",
       "      <td>98001.00000</td>\n",
       "      <td>47.15590</td>\n",
       "      <td>-122.51900</td>\n",
       "      <td>399.00000</td>\n",
       "      <td>651.00000</td>\n",
       "    </tr>\n",
       "    <tr>\n",
       "      <th>25%</th>\n",
       "      <td>2123049194.00000</td>\n",
       "      <td>321950.00000</td>\n",
       "      <td>3.00000</td>\n",
       "      <td>1.75000</td>\n",
       "      <td>1427.00000</td>\n",
       "      <td>5040.00000</td>\n",
       "      <td>1.00000</td>\n",
       "      <td>0.00000</td>\n",
       "      <td>0.00000</td>\n",
       "      <td>3.00000</td>\n",
       "      <td>7.00000</td>\n",
       "      <td>1190.00000</td>\n",
       "      <td>0.00000</td>\n",
       "      <td>1951.00000</td>\n",
       "      <td>0.00000</td>\n",
       "      <td>98033.00000</td>\n",
       "      <td>47.47100</td>\n",
       "      <td>-122.32800</td>\n",
       "      <td>1490.00000</td>\n",
       "      <td>5100.00000</td>\n",
       "    </tr>\n",
       "    <tr>\n",
       "      <th>50%</th>\n",
       "      <td>3904930410.00000</td>\n",
       "      <td>450000.00000</td>\n",
       "      <td>3.00000</td>\n",
       "      <td>2.25000</td>\n",
       "      <td>1910.00000</td>\n",
       "      <td>7618.00000</td>\n",
       "      <td>1.50000</td>\n",
       "      <td>0.00000</td>\n",
       "      <td>0.00000</td>\n",
       "      <td>3.00000</td>\n",
       "      <td>7.00000</td>\n",
       "      <td>1560.00000</td>\n",
       "      <td>0.00000</td>\n",
       "      <td>1975.00000</td>\n",
       "      <td>0.00000</td>\n",
       "      <td>98065.00000</td>\n",
       "      <td>47.57180</td>\n",
       "      <td>-122.23000</td>\n",
       "      <td>1840.00000</td>\n",
       "      <td>7620.00000</td>\n",
       "    </tr>\n",
       "    <tr>\n",
       "      <th>75%</th>\n",
       "      <td>7308900445.00000</td>\n",
       "      <td>645000.00000</td>\n",
       "      <td>4.00000</td>\n",
       "      <td>2.50000</td>\n",
       "      <td>2550.00000</td>\n",
       "      <td>10688.00000</td>\n",
       "      <td>2.00000</td>\n",
       "      <td>0.00000</td>\n",
       "      <td>0.00000</td>\n",
       "      <td>4.00000</td>\n",
       "      <td>8.00000</td>\n",
       "      <td>2210.00000</td>\n",
       "      <td>560.00000</td>\n",
       "      <td>1997.00000</td>\n",
       "      <td>0.00000</td>\n",
       "      <td>98118.00000</td>\n",
       "      <td>47.67800</td>\n",
       "      <td>-122.12500</td>\n",
       "      <td>2360.00000</td>\n",
       "      <td>10083.00000</td>\n",
       "    </tr>\n",
       "    <tr>\n",
       "      <th>max</th>\n",
       "      <td>9900000190.00000</td>\n",
       "      <td>7700000.00000</td>\n",
       "      <td>33.00000</td>\n",
       "      <td>8.00000</td>\n",
       "      <td>13540.00000</td>\n",
       "      <td>1651359.00000</td>\n",
       "      <td>3.50000</td>\n",
       "      <td>1.00000</td>\n",
       "      <td>4.00000</td>\n",
       "      <td>5.00000</td>\n",
       "      <td>13.00000</td>\n",
       "      <td>9410.00000</td>\n",
       "      <td>4820.00000</td>\n",
       "      <td>2015.00000</td>\n",
       "      <td>2015.00000</td>\n",
       "      <td>98199.00000</td>\n",
       "      <td>47.77760</td>\n",
       "      <td>-121.31500</td>\n",
       "      <td>6210.00000</td>\n",
       "      <td>871200.00000</td>\n",
       "    </tr>\n",
       "  </tbody>\n",
       "</table>\n",
       "</div>"
      ],
      "text/plain": [
       "                    id         price    bedrooms   bathrooms  sqft_living  \\\n",
       "count      21613.00000   21613.00000 21613.00000 21613.00000  21613.00000   \n",
       "mean  4580301520.86499  540088.14177     3.37084     2.11476   2079.89974   \n",
       "std   2876565571.31205  367127.19648     0.93006     0.77016    918.44090   \n",
       "min      1000102.00000   75000.00000     0.00000     0.00000    290.00000   \n",
       "25%   2123049194.00000  321950.00000     3.00000     1.75000   1427.00000   \n",
       "50%   3904930410.00000  450000.00000     3.00000     2.25000   1910.00000   \n",
       "75%   7308900445.00000  645000.00000     4.00000     2.50000   2550.00000   \n",
       "max   9900000190.00000 7700000.00000    33.00000     8.00000  13540.00000   \n",
       "\n",
       "           sqft_lot      floors  waterfront        view   condition  \\\n",
       "count   21613.00000 21613.00000 21613.00000 21613.00000 21613.00000   \n",
       "mean    15106.96757     1.49431     0.00754     0.23430     3.40943   \n",
       "std     41420.51152     0.53999     0.08652     0.76632     0.65074   \n",
       "min       520.00000     1.00000     0.00000     0.00000     1.00000   \n",
       "25%      5040.00000     1.00000     0.00000     0.00000     3.00000   \n",
       "50%      7618.00000     1.50000     0.00000     0.00000     3.00000   \n",
       "75%     10688.00000     2.00000     0.00000     0.00000     4.00000   \n",
       "max   1651359.00000     3.50000     1.00000     4.00000     5.00000   \n",
       "\n",
       "            grade  sqft_above  sqft_basement    yr_built  yr_renovated  \\\n",
       "count 21613.00000 21611.00000    21613.00000 21613.00000   21613.00000   \n",
       "mean      7.65687  1788.39609      291.50905  1971.00514      84.40226   \n",
       "std       1.17546   828.12816      442.57504    29.37341     401.67924   \n",
       "min       1.00000   290.00000        0.00000  1900.00000       0.00000   \n",
       "25%       7.00000  1190.00000        0.00000  1951.00000       0.00000   \n",
       "50%       7.00000  1560.00000        0.00000  1975.00000       0.00000   \n",
       "75%       8.00000  2210.00000      560.00000  1997.00000       0.00000   \n",
       "max      13.00000  9410.00000     4820.00000  2015.00000    2015.00000   \n",
       "\n",
       "          zipcode         lat        long  sqft_living15   sqft_lot15  \n",
       "count 21613.00000 21613.00000 21613.00000    21613.00000  21613.00000  \n",
       "mean  98077.93980    47.56005  -122.21390     1986.55249  12768.45565  \n",
       "std      53.50503     0.13856     0.14083      685.39130  27304.17963  \n",
       "min   98001.00000    47.15590  -122.51900      399.00000    651.00000  \n",
       "25%   98033.00000    47.47100  -122.32800     1490.00000   5100.00000  \n",
       "50%   98065.00000    47.57180  -122.23000     1840.00000   7620.00000  \n",
       "75%   98118.00000    47.67800  -122.12500     2360.00000  10083.00000  \n",
       "max   98199.00000    47.77760  -121.31500     6210.00000 871200.00000  "
      ]
     },
     "execution_count": 24,
     "metadata": {},
     "output_type": "execute_result"
    }
   ],
   "source": [
    "df.describe()"
   ]
  },
  {
   "cell_type": "code",
   "execution_count": 41,
   "id": "34c59b27",
   "metadata": {},
   "outputs": [
    {
     "data": {
      "image/png": "[encoded data removed]",
      "text/plain": [
       "<Figure size 1440x1440 with 20 Axes>"
      ]
     },
     "metadata": {
      "needs_background": "light"
     },
     "output_type": "display_data"
    }
   ],
   "source": [
    "df.hist(figsize=(20,20));"
   ]
  },
  {
   "cell_type": "code",
   "execution_count": null,
   "id": "4821f003",
   "metadata": {},
   "outputs": [],
   "source": [
    "univariate analysis"
   ]
  },
  {
   "cell_type": "code",
   "execution_count": 9,
   "id": "572c2542",
   "metadata": {},
   "outputs": [
    {
     "data": {
      "text/plain": [
       "<AxesSubplot:>"
      ]
     },
     "execution_count": 9,
     "metadata": {},
     "output_type": "execute_result"
    },
    {
     "data": {
      "image/png": "[encoded data removed]",
      "text/plain": [
       "<Figure size 432x288 with 2 Axes>"
      ]
     },
     "metadata": {
      "needs_background": "light"
     },
     "output_type": "display_data"
    }
   ],
   "source": [
    "sns.heatmap(df[['price','bedrooms']])"
   ]
  },
  {
   "cell_type": "markdown",
   "id": "f77988d1",
   "metadata": {},
   "source": [
    "--price is highly skewed\n",
    "--is no of bedrooms affecting the price\n",
    "--"
   ]
  },
  {
   "cell_type": "code",
   "execution_count": 11,
   "id": "d22c674b",
   "metadata": {},
   "outputs": [
    {
     "data": {
      "text/plain": [
       "1.0    10680\n",
       "2.0     8241\n",
       "1.5     1910\n",
       "3.0      613\n",
       "2.5      161\n",
       "3.5        8\n",
       "Name: floors, dtype: int64"
      ]
     },
     "execution_count": 11,
     "metadata": {},
     "output_type": "execute_result"
    }
   ],
   "source": [
    "df.floors.value_counts()"
   ]
  },
  {
   "cell_type": "code",
   "execution_count": 10,
   "id": "93ce2724",
   "metadata": {},
   "outputs": [
    {
     "data": {
      "text/plain": [
       "Index(['id', 'date', 'price', 'bedrooms', 'bathrooms', 'sqft_living',\n",
       "       'sqft_lot', 'floors', 'waterfront', 'view', 'condition', 'grade',\n",
       "       'sqft_above', 'sqft_basement', 'yr_built', 'yr_renovated', 'zipcode',\n",
       "       'lat', 'long', 'sqft_living15', 'sqft_lot15'],\n",
       "      dtype='object')"
      ]
     },
     "execution_count": 10,
     "metadata": {},
     "output_type": "execute_result"
    }
   ],
   "source": [
    "df.columns"
   ]
  },
  {
   "cell_type": "code",
   "execution_count": null,
   "id": "6cd46d63",
   "metadata": {},
   "outputs": [],
   "source": [
    "bivariate continous"
   ]
  },
  {
   "cell_type": "code",
   "execution_count": 13,
   "id": "8f81fa28",
   "metadata": {},
   "outputs": [
    {
     "data": {
      "image/png": "[encoded data removed]",
      "text/plain": [
       "<Figure size 432x288 with 1 Axes>"
      ]
     },
     "metadata": {
      "needs_background": "light"
     },
     "output_type": "display_data"
    }
   ],
   "source": [
    "plt.scatter(df.price,df.bathrooms);"
   ]
  },
  {
   "cell_type": "code",
   "execution_count": 17,
   "id": "adbb15a6",
   "metadata": {},
   "outputs": [
    {
     "data": {
      "text/plain": [
       "0.5251375054139618"
      ]
     },
     "execution_count": 17,
     "metadata": {},
     "output_type": "execute_result"
    }
   ],
   "source": [
    "df.price.corr(df.bathrooms)"
   ]
  },
  {
   "cell_type": "code",
   "execution_count": 15,
   "id": "2171e432",
   "metadata": {},
   "outputs": [
    {
     "data": {
      "image/png": "[encoded data removed]",
      "text/plain": [
       "<Figure size 432x288 with 1 Axes>"
      ]
     },
     "metadata": {
      "needs_background": "light"
     },
     "output_type": "display_data"
    }
   ],
   "source": [
    "plt.scatter(df.price,df.sqft_living);"
   ]
  },
  {
   "cell_type": "code",
   "execution_count": 18,
   "id": "e78f72dd",
   "metadata": {},
   "outputs": [
    {
     "data": {
      "text/plain": [
       "0.7020350546118003"
      ]
     },
     "execution_count": 18,
     "metadata": {},
     "output_type": "execute_result"
    }
   ],
   "source": [
    "df.price.corr(df.sqft_living)"
   ]
  },
  {
   "cell_type": "code",
   "execution_count": 19,
   "id": "6fb75e09",
   "metadata": {},
   "outputs": [
    {
     "data": {
      "image/png": "[encoded data removed]",
      "text/plain": [
       "<Figure size 432x288 with 1 Axes>"
      ]
     },
     "metadata": {
      "needs_background": "light"
     },
     "output_type": "display_data"
    }
   ],
   "source": [
    "plt.scatter(df.price,df.sqft_basement);"
   ]
  },
  {
   "cell_type": "code",
   "execution_count": 20,
   "id": "9c1c4185",
   "metadata": {},
   "outputs": [
    {
     "data": {
      "text/plain": [
       "0.32381602071198373"
      ]
     },
     "execution_count": 20,
     "metadata": {},
     "output_type": "execute_result"
    }
   ],
   "source": [
    "df.price.corr(df.sqft_basement)"
   ]
  },
  {
   "cell_type": "code",
   "execution_count": 39,
   "id": "5651d8ed",
   "metadata": {},
   "outputs": [
    {
     "data": {
      "text/plain": [
       "0.08244715251948596"
      ]
     },
     "execution_count": 39,
     "metadata": {},
     "output_type": "execute_result"
    }
   ],
   "source": [
    "df.price.corr(df.sqft_lot15)"
   ]
  },
  {
   "cell_type": "markdown",
   "id": "5482f98a",
   "metadata": {},
   "source": [
    "Observation:\n",
    "we observe that there is a positive correlation between price and sq_living(corr=0.70)\n",
    "there is a positive correlation between price and sq_living15,sq_above(corr=0.60,0.61)\n"
   ]
  },
  {
   "cell_type": "code",
   "execution_count": null,
   "id": "da65a8a6",
   "metadata": {},
   "outputs": [],
   "source": [
    "discreate/categorical"
   ]
  },
  {
   "cell_type": "code",
   "execution_count": 21,
   "id": "47c4a32d",
   "metadata": {},
   "outputs": [
    {
     "data": {
      "text/plain": [
       "3     9824\n",
       "4     6882\n",
       "2     2760\n",
       "5     1601\n",
       "6      272\n",
       "1      199\n",
       "7       38\n",
       "0       13\n",
       "8       13\n",
       "9        6\n",
       "10       3\n",
       "33       1\n",
       "11       1\n",
       "Name: bedrooms, dtype: int64"
      ]
     },
     "execution_count": 21,
     "metadata": {},
     "output_type": "execute_result"
    }
   ],
   "source": [
    "df.bedrooms.value_counts()"
   ]
  },
  {
   "cell_type": "code",
   "execution_count": 30,
   "id": "4dee8745",
   "metadata": {},
   "outputs": [
    {
     "data": {
      "text/html": [
       "<div>\n",
       "<style scoped>\n",
       "    .dataframe tbody tr th:only-of-type {\n",
       "        vertical-align: middle;\n",
       "    }\n",
       "\n",
       "    .dataframe tbody tr th {\n",
       "        vertical-align: top;\n",
       "    }\n",
       "\n",
       "    .dataframe thead th {\n",
       "        text-align: right;\n",
       "    }\n",
       "</style>\n",
       "<table border=\"1\" class=\"dataframe\">\n",
       "  <thead>\n",
       "    <tr style=\"text-align: right;\">\n",
       "      <th></th>\n",
       "      <th>count</th>\n",
       "      <th>mean</th>\n",
       "      <th>std</th>\n",
       "      <th>min</th>\n",
       "      <th>25%</th>\n",
       "      <th>50%</th>\n",
       "      <th>75%</th>\n",
       "      <th>max</th>\n",
       "    </tr>\n",
       "    <tr>\n",
       "      <th>bedrooms</th>\n",
       "      <th></th>\n",
       "      <th></th>\n",
       "      <th></th>\n",
       "      <th></th>\n",
       "      <th></th>\n",
       "      <th></th>\n",
       "      <th></th>\n",
       "      <th></th>\n",
       "    </tr>\n",
       "  </thead>\n",
       "  <tbody>\n",
       "    <tr>\n",
       "      <th>0</th>\n",
       "      <td>13.00000</td>\n",
       "      <td>409503.84615</td>\n",
       "      <td>358682.62751</td>\n",
       "      <td>139950.00000</td>\n",
       "      <td>235000.00000</td>\n",
       "      <td>288000.00000</td>\n",
       "      <td>355000.00000</td>\n",
       "      <td>1295650.00000</td>\n",
       "    </tr>\n",
       "    <tr>\n",
       "      <th>1</th>\n",
       "      <td>199.00000</td>\n",
       "      <td>317642.88442</td>\n",
       "      <td>148864.95502</td>\n",
       "      <td>75000.00000</td>\n",
       "      <td>222000.00000</td>\n",
       "      <td>299000.00000</td>\n",
       "      <td>390000.00000</td>\n",
       "      <td>1247000.00000</td>\n",
       "    </tr>\n",
       "    <tr>\n",
       "      <th>2</th>\n",
       "      <td>2760.00000</td>\n",
       "      <td>401372.68188</td>\n",
       "      <td>198051.82727</td>\n",
       "      <td>78000.00000</td>\n",
       "      <td>269837.50000</td>\n",
       "      <td>374000.00000</td>\n",
       "      <td>490000.00000</td>\n",
       "      <td>3278000.00000</td>\n",
       "    </tr>\n",
       "    <tr>\n",
       "      <th>3</th>\n",
       "      <td>9824.00000</td>\n",
       "      <td>466232.07848</td>\n",
       "      <td>262469.77186</td>\n",
       "      <td>82000.00000</td>\n",
       "      <td>295487.50000</td>\n",
       "      <td>413000.00000</td>\n",
       "      <td>560000.00000</td>\n",
       "      <td>3800000.00000</td>\n",
       "    </tr>\n",
       "    <tr>\n",
       "      <th>4</th>\n",
       "      <td>6882.00000</td>\n",
       "      <td>635419.50421</td>\n",
       "      <td>388594.44191</td>\n",
       "      <td>100000.00000</td>\n",
       "      <td>376962.50000</td>\n",
       "      <td>549997.50000</td>\n",
       "      <td>765000.00000</td>\n",
       "      <td>4489000.00000</td>\n",
       "    </tr>\n",
       "    <tr>\n",
       "      <th>5</th>\n",
       "      <td>1601.00000</td>\n",
       "      <td>786599.82886</td>\n",
       "      <td>596204.00369</td>\n",
       "      <td>133000.00000</td>\n",
       "      <td>438000.00000</td>\n",
       "      <td>620000.00000</td>\n",
       "      <td>913888.00000</td>\n",
       "      <td>7062500.00000</td>\n",
       "    </tr>\n",
       "    <tr>\n",
       "      <th>6</th>\n",
       "      <td>272.00000</td>\n",
       "      <td>825520.63603</td>\n",
       "      <td>799238.81996</td>\n",
       "      <td>175000.00000</td>\n",
       "      <td>435000.00000</td>\n",
       "      <td>650000.00000</td>\n",
       "      <td>896250.00000</td>\n",
       "      <td>7700000.00000</td>\n",
       "    </tr>\n",
       "    <tr>\n",
       "      <th>7</th>\n",
       "      <td>38.00000</td>\n",
       "      <td>951184.65789</td>\n",
       "      <td>739953.55896</td>\n",
       "      <td>280000.00000</td>\n",
       "      <td>539250.00000</td>\n",
       "      <td>728580.00000</td>\n",
       "      <td>946500.00000</td>\n",
       "      <td>3200000.00000</td>\n",
       "    </tr>\n",
       "    <tr>\n",
       "      <th>8</th>\n",
       "      <td>13.00000</td>\n",
       "      <td>1105076.92308</td>\n",
       "      <td>897495.72530</td>\n",
       "      <td>340000.00000</td>\n",
       "      <td>490000.00000</td>\n",
       "      <td>700000.00000</td>\n",
       "      <td>1650000.00000</td>\n",
       "      <td>3300000.00000</td>\n",
       "    </tr>\n",
       "    <tr>\n",
       "      <th>9</th>\n",
       "      <td>6.00000</td>\n",
       "      <td>893999.83333</td>\n",
       "      <td>381533.90098</td>\n",
       "      <td>450000.00000</td>\n",
       "      <td>624999.25000</td>\n",
       "      <td>817000.00000</td>\n",
       "      <td>1193500.00000</td>\n",
       "      <td>1400000.00000</td>\n",
       "    </tr>\n",
       "    <tr>\n",
       "      <th>10</th>\n",
       "      <td>3.00000</td>\n",
       "      <td>819333.33333</td>\n",
       "      <td>284677.59542</td>\n",
       "      <td>650000.00000</td>\n",
       "      <td>655000.00000</td>\n",
       "      <td>660000.00000</td>\n",
       "      <td>904000.00000</td>\n",
       "      <td>1148000.00000</td>\n",
       "    </tr>\n",
       "    <tr>\n",
       "      <th>11</th>\n",
       "      <td>1.00000</td>\n",
       "      <td>520000.00000</td>\n",
       "      <td>NaN</td>\n",
       "      <td>520000.00000</td>\n",
       "      <td>520000.00000</td>\n",
       "      <td>520000.00000</td>\n",
       "      <td>520000.00000</td>\n",
       "      <td>520000.00000</td>\n",
       "    </tr>\n",
       "    <tr>\n",
       "      <th>33</th>\n",
       "      <td>1.00000</td>\n",
       "      <td>640000.00000</td>\n",
       "      <td>NaN</td>\n",
       "      <td>640000.00000</td>\n",
       "      <td>640000.00000</td>\n",
       "      <td>640000.00000</td>\n",
       "      <td>640000.00000</td>\n",
       "      <td>640000.00000</td>\n",
       "    </tr>\n",
       "  </tbody>\n",
       "</table>\n",
       "</div>"
      ],
      "text/plain": [
       "              count          mean          std          min          25%  \\\n",
       "bedrooms                                                                   \n",
       "0          13.00000  409503.84615 358682.62751 139950.00000 235000.00000   \n",
       "1         199.00000  317642.88442 148864.95502  75000.00000 222000.00000   \n",
       "2        2760.00000  401372.68188 198051.82727  78000.00000 269837.50000   \n",
       "3        9824.00000  466232.07848 262469.77186  82000.00000 295487.50000   \n",
       "4        6882.00000  635419.50421 388594.44191 100000.00000 376962.50000   \n",
       "5        1601.00000  786599.82886 596204.00369 133000.00000 438000.00000   \n",
       "6         272.00000  825520.63603 799238.81996 175000.00000 435000.00000   \n",
       "7          38.00000  951184.65789 739953.55896 280000.00000 539250.00000   \n",
       "8          13.00000 1105076.92308 897495.72530 340000.00000 490000.00000   \n",
       "9           6.00000  893999.83333 381533.90098 450000.00000 624999.25000   \n",
       "10          3.00000  819333.33333 284677.59542 650000.00000 655000.00000   \n",
       "11          1.00000  520000.00000          NaN 520000.00000 520000.00000   \n",
       "33          1.00000  640000.00000          NaN 640000.00000 640000.00000   \n",
       "\n",
       "                  50%           75%           max  \n",
       "bedrooms                                           \n",
       "0        288000.00000  355000.00000 1295650.00000  \n",
       "1        299000.00000  390000.00000 1247000.00000  \n",
       "2        374000.00000  490000.00000 3278000.00000  \n",
       "3        413000.00000  560000.00000 3800000.00000  \n",
       "4        549997.50000  765000.00000 4489000.00000  \n",
       "5        620000.00000  913888.00000 7062500.00000  \n",
       "6        650000.00000  896250.00000 7700000.00000  \n",
       "7        728580.00000  946500.00000 3200000.00000  \n",
       "8        700000.00000 1650000.00000 3300000.00000  \n",
       "9        817000.00000 1193500.00000 1400000.00000  \n",
       "10       660000.00000  904000.00000 1148000.00000  \n",
       "11       520000.00000  520000.00000  520000.00000  \n",
       "33       640000.00000  640000.00000  640000.00000  "
      ]
     },
     "execution_count": 30,
     "metadata": {},
     "output_type": "execute_result"
    }
   ],
   "source": [
    "pd.set_option('display.float_format', lambda x: '%.5f' % x)\n",
    "\n",
    "data = pd.DataFrame()\n",
    "df.price.groupby(df.bedrooms).describe()"
   ]
  },
  {
   "cell_type": "code",
   "execution_count": 26,
   "id": "66a600ae",
   "metadata": {},
   "outputs": [
    {
     "data": {
      "text/html": [
       "<div>\n",
       "<style scoped>\n",
       "    .dataframe tbody tr th:only-of-type {\n",
       "        vertical-align: middle;\n",
       "    }\n",
       "\n",
       "    .dataframe tbody tr th {\n",
       "        vertical-align: top;\n",
       "    }\n",
       "\n",
       "    .dataframe thead th {\n",
       "        text-align: right;\n",
       "    }\n",
       "</style>\n",
       "<table border=\"1\" class=\"dataframe\">\n",
       "  <thead>\n",
       "    <tr style=\"text-align: right;\">\n",
       "      <th></th>\n",
       "      <th>count</th>\n",
       "      <th>mean</th>\n",
       "      <th>std</th>\n",
       "      <th>min</th>\n",
       "      <th>25%</th>\n",
       "      <th>50%</th>\n",
       "      <th>75%</th>\n",
       "      <th>max</th>\n",
       "    </tr>\n",
       "    <tr>\n",
       "      <th>view</th>\n",
       "      <th></th>\n",
       "      <th></th>\n",
       "      <th></th>\n",
       "      <th></th>\n",
       "      <th></th>\n",
       "      <th></th>\n",
       "      <th></th>\n",
       "      <th></th>\n",
       "    </tr>\n",
       "  </thead>\n",
       "  <tbody>\n",
       "    <tr>\n",
       "      <th>0</th>\n",
       "      <td>19489.0</td>\n",
       "      <td>4.965642e+05</td>\n",
       "      <td>287133.300802</td>\n",
       "      <td>75000.0</td>\n",
       "      <td>311000.0</td>\n",
       "      <td>432500.0</td>\n",
       "      <td>600000.0</td>\n",
       "      <td>5570000.0</td>\n",
       "    </tr>\n",
       "    <tr>\n",
       "      <th>1</th>\n",
       "      <td>332.0</td>\n",
       "      <td>8.122808e+05</td>\n",
       "      <td>510949.684596</td>\n",
       "      <td>217000.0</td>\n",
       "      <td>498750.0</td>\n",
       "      <td>690944.0</td>\n",
       "      <td>921250.0</td>\n",
       "      <td>3650000.0</td>\n",
       "    </tr>\n",
       "    <tr>\n",
       "      <th>2</th>\n",
       "      <td>963.0</td>\n",
       "      <td>7.924009e+05</td>\n",
       "      <td>510105.050867</td>\n",
       "      <td>169317.0</td>\n",
       "      <td>485000.0</td>\n",
       "      <td>675000.0</td>\n",
       "      <td>941250.0</td>\n",
       "      <td>7062500.0</td>\n",
       "    </tr>\n",
       "    <tr>\n",
       "      <th>3</th>\n",
       "      <td>510.0</td>\n",
       "      <td>9.719653e+05</td>\n",
       "      <td>612692.235943</td>\n",
       "      <td>154000.0</td>\n",
       "      <td>554000.0</td>\n",
       "      <td>802500.0</td>\n",
       "      <td>1256000.0</td>\n",
       "      <td>7700000.0</td>\n",
       "    </tr>\n",
       "    <tr>\n",
       "      <th>4</th>\n",
       "      <td>319.0</td>\n",
       "      <td>1.463711e+06</td>\n",
       "      <td>952209.550006</td>\n",
       "      <td>252000.0</td>\n",
       "      <td>817500.0</td>\n",
       "      <td>1185000.0</td>\n",
       "      <td>1850000.0</td>\n",
       "      <td>6885000.0</td>\n",
       "    </tr>\n",
       "  </tbody>\n",
       "</table>\n",
       "</div>"
      ],
      "text/plain": [
       "        count          mean            std       min       25%        50%  \\\n",
       "view                                                                        \n",
       "0     19489.0  4.965642e+05  287133.300802   75000.0  311000.0   432500.0   \n",
       "1       332.0  8.122808e+05  510949.684596  217000.0  498750.0   690944.0   \n",
       "2       963.0  7.924009e+05  510105.050867  169317.0  485000.0   675000.0   \n",
       "3       510.0  9.719653e+05  612692.235943  154000.0  554000.0   802500.0   \n",
       "4       319.0  1.463711e+06  952209.550006  252000.0  817500.0  1185000.0   \n",
       "\n",
       "            75%        max  \n",
       "view                        \n",
       "0      600000.0  5570000.0  \n",
       "1      921250.0  3650000.0  \n",
       "2      941250.0  7062500.0  \n",
       "3     1256000.0  7700000.0  \n",
       "4     1850000.0  6885000.0  "
      ]
     },
     "execution_count": 26,
     "metadata": {},
     "output_type": "execute_result"
    }
   ],
   "source": [
    "df.price.groupby(df.view).describe()"
   ]
  },
  {
   "cell_type": "code",
   "execution_count": 36,
   "id": "d8d65fe1",
   "metadata": {},
   "outputs": [
    {
     "data": {
      "image/png": "[encoded data removed]",
      "text/plain": [
       "<Figure size 720x720 with 1 Axes>"
      ]
     },
     "metadata": {
      "needs_background": "light"
     },
     "output_type": "display_data"
    }
   ],
   "source": [
    "df.boxplot(column='price', by='bedrooms',figsize=(10,10));"
   ]
  },
  {
   "cell_type": "code",
   "execution_count": 37,
   "id": "604666d4",
   "metadata": {},
   "outputs": [
    {
     "data": {
      "image/png": "[encoded data removed]",
      "text/plain": [
       "<Figure size 720x720 with 1 Axes>"
      ]
     },
     "metadata": {
      "needs_background": "light"
     },
     "output_type": "display_data"
    }
   ],
   "source": [
    "df.boxplot(column='price', by='condition',figsize=(10,10));"
   ]
  },
  {
   "cell_type": "code",
   "execution_count": 38,
   "id": "b3b1e244",
   "metadata": {},
   "outputs": [
    {
     "data": {
      "image/png": "[encoded data removed]",
      "text/plain": [
       "<Figure size 720x720 with 1 Axes>"
      ]
     },
     "metadata": {
      "needs_background": "light"
     },
     "output_type": "display_data"
    }
   ],
   "source": [
    "df.boxplot(column='price', by='grade',figsize=(10,10));"
   ]
  },
  {
   "cell_type": "code",
   "execution_count": null,
   "id": "0261c57e",
   "metadata": {},
   "outputs": [],
   "source": [
    "we observe that there is a positive correlation between price and sq_living(corr=0.70)\n",
    "there is a positive correlation between price and sq_living15,sq_above(corr=0.60,0.61)\n",
    "there is a mild positive correlation between price and bathrooms\n",
    "grade is effecting the price \n"
   ]
  },
  {
   "cell_type": "markdown",
   "id": "444a1a2b",
   "metadata": {},
   "source": [
    "divide data into train and test and validation\n",
    "fit your model - baseline model (excluding zip code)\n",
    "obseve the value of r2 on training data and mae and mape in validation data\n",
    "see how you can increase the performance of the model \n",
    "transformation -log \n",
    "take anti log and then calculate mae\n",
    "below 15 "
   ]
  },
  {
   "cell_type": "code",
   "execution_count": 46,
   "id": "b9399fdf",
   "metadata": {},
   "outputs": [],
   "source": [
    "model = stm.OLS(y_train,X_train).fit()"
   ]
  },
  {
   "cell_type": "code",
   "execution_count": 47,
   "id": "788d4ef5",
   "metadata": {},
   "outputs": [
    {
     "data": {
      "text/html": [
       "<table class=\"simpletable\">\n",
       "<caption>OLS Regression Results</caption>\n",
       "<tr>\n",
       "  <th>Dep. Variable:</th>          <td>price</td>      <th>  R-squared (uncentered):</th>       <td>   0.866</td>  \n",
       "</tr>\n",
       "<tr>\n",
       "  <th>Model:</th>                   <td>OLS</td>       <th>  Adj. R-squared (uncentered):</th>  <td>   0.866</td>  \n",
       "</tr>\n",
       "<tr>\n",
       "  <th>Method:</th>             <td>Least Squares</td>  <th>  F-statistic:       </th>           <td>   8390.</td>  \n",
       "</tr>\n",
       "<tr>\n",
       "  <th>Date:</th>             <td>Wed, 30 Nov 2022</td> <th>  Prob (F-statistic):</th>            <td>  0.00</td>   \n",
       "</tr>\n",
       "<tr>\n",
       "  <th>Time:</th>                 <td>14:40:22</td>     <th>  Log-Likelihood:    </th>          <td>-2.1555e+05</td>\n",
       "</tr>\n",
       "<tr>\n",
       "  <th>No. Observations:</th>      <td> 15613</td>      <th>  AIC:               </th>           <td>4.311e+05</td> \n",
       "</tr>\n",
       "<tr>\n",
       "  <th>Df Residuals:</th>          <td> 15601</td>      <th>  BIC:               </th>           <td>4.312e+05</td> \n",
       "</tr>\n",
       "<tr>\n",
       "  <th>Df Model:</th>              <td>    12</td>      <th>                     </th>               <td> </td>     \n",
       "</tr>\n",
       "<tr>\n",
       "  <th>Covariance Type:</th>      <td>nonrobust</td>    <th>                     </th>               <td> </td>     \n",
       "</tr>\n",
       "</table>\n",
       "<table class=\"simpletable\">\n",
       "<tr>\n",
       "        <td></td>           <th>coef</th>     <th>std err</th>      <th>t</th>      <th>P>|t|</th>  <th>[0.025</th>    <th>0.975]</th>  \n",
       "</tr>\n",
       "<tr>\n",
       "  <th>bedrooms</th>      <td>-6.429e+04</td> <td> 2466.798</td> <td>  -26.060</td> <td> 0.000</td> <td>-6.91e+04</td> <td>-5.94e+04</td>\n",
       "</tr>\n",
       "<tr>\n",
       "  <th>bathrooms</th>     <td> -923.7089</td> <td> 4266.716</td> <td>   -0.216</td> <td> 0.829</td> <td>-9286.967</td> <td> 7439.549</td>\n",
       "</tr>\n",
       "<tr>\n",
       "  <th>sqft_living</th>   <td>  174.7216</td> <td>    2.884</td> <td>   60.577</td> <td> 0.000</td> <td>  169.068</td> <td>  180.375</td>\n",
       "</tr>\n",
       "<tr>\n",
       "  <th>sqft_lot</th>      <td>   -0.0567</td> <td>    0.071</td> <td>   -0.794</td> <td> 0.427</td> <td>   -0.197</td> <td>    0.083</td>\n",
       "</tr>\n",
       "<tr>\n",
       "  <th>floors</th>        <td>-3.275e+04</td> <td> 4821.331</td> <td>   -6.793</td> <td> 0.000</td> <td>-4.22e+04</td> <td>-2.33e+04</td>\n",
       "</tr>\n",
       "<tr>\n",
       "  <th>waterfront</th>    <td> 5.576e+05</td> <td> 2.53e+04</td> <td>   22.022</td> <td> 0.000</td> <td> 5.08e+05</td> <td> 6.07e+05</td>\n",
       "</tr>\n",
       "<tr>\n",
       "  <th>view</th>          <td> 6.605e+04</td> <td> 2912.520</td> <td>   22.678</td> <td> 0.000</td> <td> 6.03e+04</td> <td> 7.18e+04</td>\n",
       "</tr>\n",
       "<tr>\n",
       "  <th>condition</th>     <td>-3003.7506</td> <td> 2544.771</td> <td>   -1.180</td> <td> 0.238</td> <td>-7991.798</td> <td> 1984.297</td>\n",
       "</tr>\n",
       "<tr>\n",
       "  <th>grade</th>         <td> 3.513e+04</td> <td> 2052.892</td> <td>   17.110</td> <td> 0.000</td> <td> 3.11e+04</td> <td> 3.91e+04</td>\n",
       "</tr>\n",
       "<tr>\n",
       "  <th>sqft_above</th>    <td>   84.7045</td> <td>    2.916</td> <td>   29.044</td> <td> 0.000</td> <td>   78.988</td> <td>   90.421</td>\n",
       "</tr>\n",
       "<tr>\n",
       "  <th>sqft_basement</th> <td>   90.0172</td> <td>    3.580</td> <td>   25.145</td> <td> 0.000</td> <td>   83.000</td> <td>   97.034</td>\n",
       "</tr>\n",
       "<tr>\n",
       "  <th>sqft_living15</th> <td>    3.6372</td> <td>    4.657</td> <td>    0.781</td> <td> 0.435</td> <td>   -5.491</td> <td>   12.765</td>\n",
       "</tr>\n",
       "<tr>\n",
       "  <th>sqft_lot15</th>    <td>   -0.8884</td> <td>    0.104</td> <td>   -8.582</td> <td> 0.000</td> <td>   -1.091</td> <td>   -0.686</td>\n",
       "</tr>\n",
       "</table>\n",
       "<table class=\"simpletable\">\n",
       "<tr>\n",
       "  <th>Omnibus:</th>       <td>11215.096</td> <th>  Durbin-Watson:     </th>  <td>   2.006</td> \n",
       "</tr>\n",
       "<tr>\n",
       "  <th>Prob(Omnibus):</th>  <td> 0.000</td>   <th>  Jarque-Bera (JB):  </th> <td>574467.812</td>\n",
       "</tr>\n",
       "<tr>\n",
       "  <th>Skew:</th>           <td> 2.907</td>   <th>  Prob(JB):          </th>  <td>    0.00</td> \n",
       "</tr>\n",
       "<tr>\n",
       "  <th>Kurtosis:</th>       <td>32.142</td>   <th>  Cond. No.          </th>  <td>3.40e+17</td> \n",
       "</tr>\n",
       "</table><br/><br/>Notes:<br/>[1] R² is computed without centering (uncentered) since the model does not contain a constant.<br/>[2] Standard Errors assume that the covariance matrix of the errors is correctly specified.<br/>[3] The smallest eigenvalue is 3.39e-22. This might indicate that there are<br/>strong multicollinearity problems or that the design matrix is singular."
      ],
      "text/plain": [
       "<class 'statsmodels.iolib.summary.Summary'>\n",
       "\"\"\"\n",
       "                                 OLS Regression Results                                \n",
       "=======================================================================================\n",
       "Dep. Variable:                  price   R-squared (uncentered):                   0.866\n",
       "Model:                            OLS   Adj. R-squared (uncentered):              0.866\n",
       "Method:                 Least Squares   F-statistic:                              8390.\n",
       "Date:                Wed, 30 Nov 2022   Prob (F-statistic):                        0.00\n",
       "Time:                        14:40:22   Log-Likelihood:                     -2.1555e+05\n",
       "No. Observations:               15613   AIC:                                  4.311e+05\n",
       "Df Residuals:                   15601   BIC:                                  4.312e+05\n",
       "Df Model:                          12                                                  \n",
       "Covariance Type:            nonrobust                                                  \n",
       "=================================================================================\n",
       "                    coef    std err          t      P>|t|      [0.025      0.975]\n",
       "---------------------------------------------------------------------------------\n",
       "bedrooms      -6.429e+04   2466.798    -26.060      0.000   -6.91e+04   -5.94e+04\n",
       "bathrooms      -923.7089   4266.716     -0.216      0.829   -9286.967    7439.549\n",
       "sqft_living     174.7216      2.884     60.577      0.000     169.068     180.375\n",
       "sqft_lot         -0.0567      0.071     -0.794      0.427      -0.197       0.083\n",
       "floors        -3.275e+04   4821.331     -6.793      0.000   -4.22e+04   -2.33e+04\n",
       "waterfront     5.576e+05   2.53e+04     22.022      0.000    5.08e+05    6.07e+05\n",
       "view           6.605e+04   2912.520     22.678      0.000    6.03e+04    7.18e+04\n",
       "condition     -3003.7506   2544.771     -1.180      0.238   -7991.798    1984.297\n",
       "grade          3.513e+04   2052.892     17.110      0.000    3.11e+04    3.91e+04\n",
       "sqft_above       84.7045      2.916     29.044      0.000      78.988      90.421\n",
       "sqft_basement    90.0172      3.580     25.145      0.000      83.000      97.034\n",
       "sqft_living15     3.6372      4.657      0.781      0.435      -5.491      12.765\n",
       "sqft_lot15       -0.8884      0.104     -8.582      0.000      -1.091      -0.686\n",
       "==============================================================================\n",
       "Omnibus:                    11215.096   Durbin-Watson:                   2.006\n",
       "Prob(Omnibus):                  0.000   Jarque-Bera (JB):           574467.812\n",
       "Skew:                           2.907   Prob(JB):                         0.00\n",
       "Kurtosis:                      32.142   Cond. No.                     3.40e+17\n",
       "==============================================================================\n",
       "\n",
       "Notes:\n",
       "[1] R² is computed without centering (uncentered) since the model does not contain a constant.\n",
       "[2] Standard Errors assume that the covariance matrix of the errors is correctly specified.\n",
       "[3] The smallest eigenvalue is 3.39e-22. This might indicate that there are\n",
       "strong multicollinearity problems or that the design matrix is singular.\n",
       "\"\"\""
      ]
     },
     "execution_count": 47,
     "metadata": {},
     "output_type": "execute_result"
    }
   ],
   "source": [
    "model.summary()"
   ]
  },
  {
   "cell_type": "markdown",
   "id": "14c23891",
   "metadata": {},
   "source": [
    "#create age basement-\n",
    "r2 training error test error"
   ]
  },
  {
   "cell_type": "code",
   "execution_count": 17,
   "id": "848bc967",
   "metadata": {},
   "outputs": [],
   "source": [
    "X = df1.drop(['price'],axis=1)\n",
    "y = df1.price"
   ]
  },
  {
   "cell_type": "code",
   "execution_count": 16,
   "id": "956732ab",
   "metadata": {},
   "outputs": [],
   "source": [
    "df1=df.drop(['id','date','lat','long','zipcode','yr_built', 'yr_renovated'],axis=1).dropna()"
   ]
  },
  {
   "cell_type": "code",
   "execution_count": 19,
   "id": "d4ef3d4e",
   "metadata": {},
   "outputs": [],
   "source": [
    "#Splitting the data\n",
    "X_train , X_test,y_train,y_test  = train_test_split(X,y, test_size=0.3,random_state=42)"
   ]
  },
  {
   "cell_type": "code",
   "execution_count": 20,
   "id": "51fc85f8",
   "metadata": {},
   "outputs": [],
   "source": [
    "X_train , X_valid , y_train , y_valid = train_test_split(X_train,y_train, test_size=0.15,random_state=42)"
   ]
  },
  {
   "cell_type": "code",
   "execution_count": 21,
   "id": "2eb4e359",
   "metadata": {},
   "outputs": [
    {
     "data": {
      "text/plain": [
       "LinearRegression()"
      ]
     },
     "execution_count": 21,
     "metadata": {},
     "output_type": "execute_result"
    }
   ],
   "source": [
    "lr= LinearRegression()\n",
    "lr.fit(X_train,y_train)"
   ]
  },
  {
   "cell_type": "code",
   "execution_count": 24,
   "id": "749d9fd3",
   "metadata": {},
   "outputs": [
    {
     "data": {
      "text/plain": [
       "0.6070181029069637"
      ]
     },
     "execution_count": 24,
     "metadata": {},
     "output_type": "execute_result"
    }
   ],
   "source": [
    "lr.score(X_train,y_train)"
   ]
  },
  {
   "cell_type": "code",
   "execution_count": 25,
   "id": "e19726f2",
   "metadata": {},
   "outputs": [
    {
     "data": {
      "text/plain": [
       "(31.674785357256717, 150707.5947861614)"
      ]
     },
     "execution_count": 25,
     "metadata": {},
     "output_type": "execute_result"
    }
   ],
   "source": [
    "mae= np.sum(np.abs(y_train-lr.predict(X_train)))/len(y_train)\n",
    "mape= np.mean(np.abs(y_train-lr.predict(X_train))/y_train)*100\n",
    "mape,mae"
   ]
  },
  {
   "cell_type": "code",
   "execution_count": 27,
   "id": "a25b8e39",
   "metadata": {},
   "outputs": [
    {
     "data": {
      "text/plain": [
       "(31.447311303370284, 144955.5138086102)"
      ]
     },
     "execution_count": 27,
     "metadata": {},
     "output_type": "execute_result"
    }
   ],
   "source": [
    "mae_val= np.sum(np.abs(y_valid-lr.predict(X_valid)))/len(y_valid)\n",
    "mape_val= np.mean(np.abs(y_valid-lr.predict(X_valid))/y_valid)*100\n",
    "mape_val,mae_val"
   ]
  },
  {
   "cell_type": "code",
   "execution_count": 131,
   "id": "4dc0645d",
   "metadata": {},
   "outputs": [
    {
     "data": {
      "text/html": [
       "<div>\n",
       "<style scoped>\n",
       "    .dataframe tbody tr th:only-of-type {\n",
       "        vertical-align: middle;\n",
       "    }\n",
       "\n",
       "    .dataframe tbody tr th {\n",
       "        vertical-align: top;\n",
       "    }\n",
       "\n",
       "    .dataframe thead th {\n",
       "        text-align: right;\n",
       "    }\n",
       "</style>\n",
       "<table border=\"1\" class=\"dataframe\">\n",
       "  <thead>\n",
       "    <tr style=\"text-align: right;\">\n",
       "      <th></th>\n",
       "      <th>bedrooms</th>\n",
       "      <th>bathrooms</th>\n",
       "      <th>sqft_living</th>\n",
       "      <th>sqft_lot</th>\n",
       "      <th>floors</th>\n",
       "      <th>waterfront</th>\n",
       "      <th>view</th>\n",
       "      <th>condition</th>\n",
       "      <th>grade</th>\n",
       "      <th>sqft_above</th>\n",
       "      <th>sqft_basement</th>\n",
       "      <th>sqft_living15</th>\n",
       "      <th>sqft_lot15</th>\n",
       "      <th>log_price</th>\n",
       "    </tr>\n",
       "  </thead>\n",
       "  <tbody>\n",
       "    <tr>\n",
       "      <th>count</th>\n",
       "      <td>21611.00000</td>\n",
       "      <td>21611.00000</td>\n",
       "      <td>21611.00000</td>\n",
       "      <td>21611.00000</td>\n",
       "      <td>21611.00000</td>\n",
       "      <td>21611.00000</td>\n",
       "      <td>21611.00000</td>\n",
       "      <td>21611.00000</td>\n",
       "      <td>21611.00000</td>\n",
       "      <td>21611.00000</td>\n",
       "      <td>21611.00000</td>\n",
       "      <td>21611.00000</td>\n",
       "      <td>21611.00000</td>\n",
       "      <td>21611.00000</td>\n",
       "    </tr>\n",
       "    <tr>\n",
       "      <th>mean</th>\n",
       "      <td>3.37083</td>\n",
       "      <td>2.11479</td>\n",
       "      <td>2079.85345</td>\n",
       "      <td>15107.71339</td>\n",
       "      <td>1.49433</td>\n",
       "      <td>0.00754</td>\n",
       "      <td>0.23433</td>\n",
       "      <td>3.40942</td>\n",
       "      <td>7.65689</td>\n",
       "      <td>1788.39609</td>\n",
       "      <td>291.45736</td>\n",
       "      <td>1986.55958</td>\n",
       "      <td>12769.02536</td>\n",
       "      <td>13.04780</td>\n",
       "    </tr>\n",
       "    <tr>\n",
       "      <th>std</th>\n",
       "      <td>0.93009</td>\n",
       "      <td>0.77016</td>\n",
       "      <td>918.42241</td>\n",
       "      <td>41422.34720</td>\n",
       "      <td>0.54000</td>\n",
       "      <td>0.08652</td>\n",
       "      <td>0.76635</td>\n",
       "      <td>0.65075</td>\n",
       "      <td>1.17550</td>\n",
       "      <td>828.12816</td>\n",
       "      <td>442.48735</td>\n",
       "      <td>685.41655</td>\n",
       "      <td>27305.36981</td>\n",
       "      <td>0.52670</td>\n",
       "    </tr>\n",
       "    <tr>\n",
       "      <th>min</th>\n",
       "      <td>0.00000</td>\n",
       "      <td>0.00000</td>\n",
       "      <td>290.00000</td>\n",
       "      <td>520.00000</td>\n",
       "      <td>1.00000</td>\n",
       "      <td>0.00000</td>\n",
       "      <td>0.00000</td>\n",
       "      <td>1.00000</td>\n",
       "      <td>1.00000</td>\n",
       "      <td>290.00000</td>\n",
       "      <td>0.00000</td>\n",
       "      <td>399.00000</td>\n",
       "      <td>651.00000</td>\n",
       "      <td>11.22524</td>\n",
       "    </tr>\n",
       "    <tr>\n",
       "      <th>25%</th>\n",
       "      <td>3.00000</td>\n",
       "      <td>1.75000</td>\n",
       "      <td>1426.00000</td>\n",
       "      <td>5040.00000</td>\n",
       "      <td>1.00000</td>\n",
       "      <td>0.00000</td>\n",
       "      <td>0.00000</td>\n",
       "      <td>3.00000</td>\n",
       "      <td>7.00000</td>\n",
       "      <td>1190.00000</td>\n",
       "      <td>0.00000</td>\n",
       "      <td>1490.00000</td>\n",
       "      <td>5100.00000</td>\n",
       "      <td>12.68145</td>\n",
       "    </tr>\n",
       "    <tr>\n",
       "      <th>50%</th>\n",
       "      <td>3.00000</td>\n",
       "      <td>2.25000</td>\n",
       "      <td>1910.00000</td>\n",
       "      <td>7618.00000</td>\n",
       "      <td>1.50000</td>\n",
       "      <td>0.00000</td>\n",
       "      <td>0.00000</td>\n",
       "      <td>3.00000</td>\n",
       "      <td>7.00000</td>\n",
       "      <td>1560.00000</td>\n",
       "      <td>0.00000</td>\n",
       "      <td>1840.00000</td>\n",
       "      <td>7620.00000</td>\n",
       "      <td>13.01700</td>\n",
       "    </tr>\n",
       "    <tr>\n",
       "      <th>75%</th>\n",
       "      <td>4.00000</td>\n",
       "      <td>2.50000</td>\n",
       "      <td>2550.00000</td>\n",
       "      <td>10688.50000</td>\n",
       "      <td>2.00000</td>\n",
       "      <td>0.00000</td>\n",
       "      <td>0.00000</td>\n",
       "      <td>4.00000</td>\n",
       "      <td>8.00000</td>\n",
       "      <td>2210.00000</td>\n",
       "      <td>560.00000</td>\n",
       "      <td>2360.00000</td>\n",
       "      <td>10083.50000</td>\n",
       "      <td>13.37701</td>\n",
       "    </tr>\n",
       "    <tr>\n",
       "      <th>max</th>\n",
       "      <td>33.00000</td>\n",
       "      <td>8.00000</td>\n",
       "      <td>13540.00000</td>\n",
       "      <td>1651359.00000</td>\n",
       "      <td>3.50000</td>\n",
       "      <td>1.00000</td>\n",
       "      <td>4.00000</td>\n",
       "      <td>5.00000</td>\n",
       "      <td>13.00000</td>\n",
       "      <td>9410.00000</td>\n",
       "      <td>4820.00000</td>\n",
       "      <td>6210.00000</td>\n",
       "      <td>871200.00000</td>\n",
       "      <td>15.85673</td>\n",
       "    </tr>\n",
       "  </tbody>\n",
       "</table>\n",
       "</div>"
      ],
      "text/plain": [
       "         bedrooms   bathrooms  sqft_living      sqft_lot      floors  \\\n",
       "count 21611.00000 21611.00000  21611.00000   21611.00000 21611.00000   \n",
       "mean      3.37083     2.11479   2079.85345   15107.71339     1.49433   \n",
       "std       0.93009     0.77016    918.42241   41422.34720     0.54000   \n",
       "min       0.00000     0.00000    290.00000     520.00000     1.00000   \n",
       "25%       3.00000     1.75000   1426.00000    5040.00000     1.00000   \n",
       "50%       3.00000     2.25000   1910.00000    7618.00000     1.50000   \n",
       "75%       4.00000     2.50000   2550.00000   10688.50000     2.00000   \n",
       "max      33.00000     8.00000  13540.00000 1651359.00000     3.50000   \n",
       "\n",
       "       waterfront        view   condition       grade  sqft_above  \\\n",
       "count 21611.00000 21611.00000 21611.00000 21611.00000 21611.00000   \n",
       "mean      0.00754     0.23433     3.40942     7.65689  1788.39609   \n",
       "std       0.08652     0.76635     0.65075     1.17550   828.12816   \n",
       "min       0.00000     0.00000     1.00000     1.00000   290.00000   \n",
       "25%       0.00000     0.00000     3.00000     7.00000  1190.00000   \n",
       "50%       0.00000     0.00000     3.00000     7.00000  1560.00000   \n",
       "75%       0.00000     0.00000     4.00000     8.00000  2210.00000   \n",
       "max       1.00000     4.00000     5.00000    13.00000  9410.00000   \n",
       "\n",
       "       sqft_basement  sqft_living15   sqft_lot15   log_price  \n",
       "count    21611.00000    21611.00000  21611.00000 21611.00000  \n",
       "mean       291.45736     1986.55958  12769.02536    13.04780  \n",
       "std        442.48735      685.41655  27305.36981     0.52670  \n",
       "min          0.00000      399.00000    651.00000    11.22524  \n",
       "25%          0.00000     1490.00000   5100.00000    12.68145  \n",
       "50%          0.00000     1840.00000   7620.00000    13.01700  \n",
       "75%        560.00000     2360.00000  10083.50000    13.37701  \n",
       "max       4820.00000     6210.00000 871200.00000    15.85673  "
      ]
     },
     "execution_count": 131,
     "metadata": {},
     "output_type": "execute_result"
    }
   ],
   "source": [
    "df1.describe()"
   ]
  },
  {
   "cell_type": "code",
   "execution_count": 18,
   "id": "82270b88",
   "metadata": {},
   "outputs": [
    {
     "data": {
      "text/html": [
       "<div>\n",
       "<style scoped>\n",
       "    .dataframe tbody tr th:only-of-type {\n",
       "        vertical-align: middle;\n",
       "    }\n",
       "\n",
       "    .dataframe tbody tr th {\n",
       "        vertical-align: top;\n",
       "    }\n",
       "\n",
       "    .dataframe thead th {\n",
       "        text-align: right;\n",
       "    }\n",
       "</style>\n",
       "<table border=\"1\" class=\"dataframe\">\n",
       "  <thead>\n",
       "    <tr style=\"text-align: right;\">\n",
       "      <th></th>\n",
       "      <th>bedrooms</th>\n",
       "      <th>bathrooms</th>\n",
       "      <th>sqft_living</th>\n",
       "      <th>sqft_lot</th>\n",
       "      <th>floors</th>\n",
       "      <th>waterfront</th>\n",
       "      <th>view</th>\n",
       "      <th>condition</th>\n",
       "      <th>grade</th>\n",
       "      <th>sqft_above</th>\n",
       "      <th>sqft_basement</th>\n",
       "      <th>sqft_living15</th>\n",
       "      <th>sqft_lot15</th>\n",
       "    </tr>\n",
       "  </thead>\n",
       "  <tbody>\n",
       "    <tr>\n",
       "      <th>0</th>\n",
       "      <td>3</td>\n",
       "      <td>1.00000</td>\n",
       "      <td>1180</td>\n",
       "      <td>5650</td>\n",
       "      <td>1.00000</td>\n",
       "      <td>0</td>\n",
       "      <td>0</td>\n",
       "      <td>3</td>\n",
       "      <td>7</td>\n",
       "      <td>1180.00000</td>\n",
       "      <td>0</td>\n",
       "      <td>1340</td>\n",
       "      <td>5650</td>\n",
       "    </tr>\n",
       "    <tr>\n",
       "      <th>1</th>\n",
       "      <td>3</td>\n",
       "      <td>2.25000</td>\n",
       "      <td>2570</td>\n",
       "      <td>7242</td>\n",
       "      <td>2.00000</td>\n",
       "      <td>0</td>\n",
       "      <td>0</td>\n",
       "      <td>3</td>\n",
       "      <td>7</td>\n",
       "      <td>2170.00000</td>\n",
       "      <td>400</td>\n",
       "      <td>1690</td>\n",
       "      <td>7639</td>\n",
       "    </tr>\n",
       "    <tr>\n",
       "      <th>2</th>\n",
       "      <td>2</td>\n",
       "      <td>1.00000</td>\n",
       "      <td>770</td>\n",
       "      <td>10000</td>\n",
       "      <td>1.00000</td>\n",
       "      <td>0</td>\n",
       "      <td>0</td>\n",
       "      <td>3</td>\n",
       "      <td>6</td>\n",
       "      <td>770.00000</td>\n",
       "      <td>0</td>\n",
       "      <td>2720</td>\n",
       "      <td>8062</td>\n",
       "    </tr>\n",
       "    <tr>\n",
       "      <th>3</th>\n",
       "      <td>4</td>\n",
       "      <td>3.00000</td>\n",
       "      <td>1960</td>\n",
       "      <td>5000</td>\n",
       "      <td>1.00000</td>\n",
       "      <td>0</td>\n",
       "      <td>0</td>\n",
       "      <td>5</td>\n",
       "      <td>7</td>\n",
       "      <td>1050.00000</td>\n",
       "      <td>910</td>\n",
       "      <td>1360</td>\n",
       "      <td>5000</td>\n",
       "    </tr>\n",
       "    <tr>\n",
       "      <th>4</th>\n",
       "      <td>3</td>\n",
       "      <td>2.00000</td>\n",
       "      <td>1680</td>\n",
       "      <td>8080</td>\n",
       "      <td>1.00000</td>\n",
       "      <td>0</td>\n",
       "      <td>0</td>\n",
       "      <td>3</td>\n",
       "      <td>8</td>\n",
       "      <td>1680.00000</td>\n",
       "      <td>0</td>\n",
       "      <td>1800</td>\n",
       "      <td>7503</td>\n",
       "    </tr>\n",
       "    <tr>\n",
       "      <th>...</th>\n",
       "      <td>...</td>\n",
       "      <td>...</td>\n",
       "      <td>...</td>\n",
       "      <td>...</td>\n",
       "      <td>...</td>\n",
       "      <td>...</td>\n",
       "      <td>...</td>\n",
       "      <td>...</td>\n",
       "      <td>...</td>\n",
       "      <td>...</td>\n",
       "      <td>...</td>\n",
       "      <td>...</td>\n",
       "      <td>...</td>\n",
       "    </tr>\n",
       "    <tr>\n",
       "      <th>21608</th>\n",
       "      <td>3</td>\n",
       "      <td>2.50000</td>\n",
       "      <td>1530</td>\n",
       "      <td>1131</td>\n",
       "      <td>3.00000</td>\n",
       "      <td>0</td>\n",
       "      <td>0</td>\n",
       "      <td>3</td>\n",
       "      <td>8</td>\n",
       "      <td>1530.00000</td>\n",
       "      <td>0</td>\n",
       "      <td>1530</td>\n",
       "      <td>1509</td>\n",
       "    </tr>\n",
       "    <tr>\n",
       "      <th>21609</th>\n",
       "      <td>4</td>\n",
       "      <td>2.50000</td>\n",
       "      <td>2310</td>\n",
       "      <td>5813</td>\n",
       "      <td>2.00000</td>\n",
       "      <td>0</td>\n",
       "      <td>0</td>\n",
       "      <td>3</td>\n",
       "      <td>8</td>\n",
       "      <td>2310.00000</td>\n",
       "      <td>0</td>\n",
       "      <td>1830</td>\n",
       "      <td>7200</td>\n",
       "    </tr>\n",
       "    <tr>\n",
       "      <th>21610</th>\n",
       "      <td>2</td>\n",
       "      <td>0.75000</td>\n",
       "      <td>1020</td>\n",
       "      <td>1350</td>\n",
       "      <td>2.00000</td>\n",
       "      <td>0</td>\n",
       "      <td>0</td>\n",
       "      <td>3</td>\n",
       "      <td>7</td>\n",
       "      <td>1020.00000</td>\n",
       "      <td>0</td>\n",
       "      <td>1020</td>\n",
       "      <td>2007</td>\n",
       "    </tr>\n",
       "    <tr>\n",
       "      <th>21611</th>\n",
       "      <td>3</td>\n",
       "      <td>2.50000</td>\n",
       "      <td>1600</td>\n",
       "      <td>2388</td>\n",
       "      <td>2.00000</td>\n",
       "      <td>0</td>\n",
       "      <td>0</td>\n",
       "      <td>3</td>\n",
       "      <td>8</td>\n",
       "      <td>1600.00000</td>\n",
       "      <td>0</td>\n",
       "      <td>1410</td>\n",
       "      <td>1287</td>\n",
       "    </tr>\n",
       "    <tr>\n",
       "      <th>21612</th>\n",
       "      <td>2</td>\n",
       "      <td>0.75000</td>\n",
       "      <td>1020</td>\n",
       "      <td>1076</td>\n",
       "      <td>2.00000</td>\n",
       "      <td>0</td>\n",
       "      <td>0</td>\n",
       "      <td>3</td>\n",
       "      <td>7</td>\n",
       "      <td>1020.00000</td>\n",
       "      <td>0</td>\n",
       "      <td>1020</td>\n",
       "      <td>1357</td>\n",
       "    </tr>\n",
       "  </tbody>\n",
       "</table>\n",
       "<p>21611 rows × 13 columns</p>\n",
       "</div>"
      ],
      "text/plain": [
       "       bedrooms  bathrooms  sqft_living  sqft_lot  floors  waterfront  view  \\\n",
       "0             3    1.00000         1180      5650 1.00000           0     0   \n",
       "1             3    2.25000         2570      7242 2.00000           0     0   \n",
       "2             2    1.00000          770     10000 1.00000           0     0   \n",
       "3             4    3.00000         1960      5000 1.00000           0     0   \n",
       "4             3    2.00000         1680      8080 1.00000           0     0   \n",
       "...         ...        ...          ...       ...     ...         ...   ...   \n",
       "21608         3    2.50000         1530      1131 3.00000           0     0   \n",
       "21609         4    2.50000         2310      5813 2.00000           0     0   \n",
       "21610         2    0.75000         1020      1350 2.00000           0     0   \n",
       "21611         3    2.50000         1600      2388 2.00000           0     0   \n",
       "21612         2    0.75000         1020      1076 2.00000           0     0   \n",
       "\n",
       "       condition  grade  sqft_above  sqft_basement  sqft_living15  sqft_lot15  \n",
       "0              3      7  1180.00000              0           1340        5650  \n",
       "1              3      7  2170.00000            400           1690        7639  \n",
       "2              3      6   770.00000              0           2720        8062  \n",
       "3              5      7  1050.00000            910           1360        5000  \n",
       "4              3      8  1680.00000              0           1800        7503  \n",
       "...          ...    ...         ...            ...            ...         ...  \n",
       "21608          3      8  1530.00000              0           1530        1509  \n",
       "21609          3      8  2310.00000              0           1830        7200  \n",
       "21610          3      7  1020.00000              0           1020        2007  \n",
       "21611          3      8  1600.00000              0           1410        1287  \n",
       "21612          3      7  1020.00000              0           1020        1357  \n",
       "\n",
       "[21611 rows x 13 columns]"
      ]
     },
     "execution_count": 18,
     "metadata": {},
     "output_type": "execute_result"
    }
   ],
   "source": [
    "X"
   ]
  },
  {
   "cell_type": "code",
   "execution_count": 114,
   "id": "0043ebe6",
   "metadata": {},
   "outputs": [],
   "source": [
    "#Splitting the data\n",
    "X_train , X_test,y_train,y_test  = train_test_split(X,y, test_size=0.3,random_state=42)"
   ]
  },
  {
   "cell_type": "code",
   "execution_count": 115,
   "id": "e6bc6f5b",
   "metadata": {},
   "outputs": [],
   "source": [
    "X_train , X_valid , y_train , y_valid = train_test_split(X_train,y_train, test_size=0.3,random_state=42)"
   ]
  },
  {
   "cell_type": "code",
   "execution_count": 116,
   "id": "8c5a1a31",
   "metadata": {},
   "outputs": [
    {
     "data": {
      "text/html": [
       "<div>\n",
       "<style scoped>\n",
       "    .dataframe tbody tr th:only-of-type {\n",
       "        vertical-align: middle;\n",
       "    }\n",
       "\n",
       "    .dataframe tbody tr th {\n",
       "        vertical-align: top;\n",
       "    }\n",
       "\n",
       "    .dataframe thead th {\n",
       "        text-align: right;\n",
       "    }\n",
       "</style>\n",
       "<table border=\"1\" class=\"dataframe\">\n",
       "  <thead>\n",
       "    <tr style=\"text-align: right;\">\n",
       "      <th></th>\n",
       "      <th>bedrooms</th>\n",
       "      <th>bathrooms</th>\n",
       "      <th>sqft_living</th>\n",
       "      <th>sqft_lot</th>\n",
       "      <th>floors</th>\n",
       "      <th>waterfront</th>\n",
       "      <th>view</th>\n",
       "      <th>condition</th>\n",
       "      <th>grade</th>\n",
       "      <th>sqft_above</th>\n",
       "      <th>sqft_basement</th>\n",
       "      <th>sqft_living15</th>\n",
       "      <th>sqft_lot15</th>\n",
       "    </tr>\n",
       "  </thead>\n",
       "  <tbody>\n",
       "    <tr>\n",
       "      <th>18099</th>\n",
       "      <td>2</td>\n",
       "      <td>1.00000</td>\n",
       "      <td>890</td>\n",
       "      <td>8100</td>\n",
       "      <td>1.00000</td>\n",
       "      <td>0</td>\n",
       "      <td>0</td>\n",
       "      <td>3</td>\n",
       "      <td>6</td>\n",
       "      <td>890.00000</td>\n",
       "      <td>0</td>\n",
       "      <td>1260</td>\n",
       "      <td>8100</td>\n",
       "    </tr>\n",
       "    <tr>\n",
       "      <th>15609</th>\n",
       "      <td>3</td>\n",
       "      <td>2.00000</td>\n",
       "      <td>1470</td>\n",
       "      <td>1691</td>\n",
       "      <td>2.00000</td>\n",
       "      <td>0</td>\n",
       "      <td>0</td>\n",
       "      <td>3</td>\n",
       "      <td>8</td>\n",
       "      <td>1000.00000</td>\n",
       "      <td>470</td>\n",
       "      <td>1660</td>\n",
       "      <td>4000</td>\n",
       "    </tr>\n",
       "    <tr>\n",
       "      <th>5877</th>\n",
       "      <td>3</td>\n",
       "      <td>2.00000</td>\n",
       "      <td>1880</td>\n",
       "      <td>3048</td>\n",
       "      <td>2.00000</td>\n",
       "      <td>0</td>\n",
       "      <td>0</td>\n",
       "      <td>4</td>\n",
       "      <td>7</td>\n",
       "      <td>1880.00000</td>\n",
       "      <td>0</td>\n",
       "      <td>1680</td>\n",
       "      <td>3600</td>\n",
       "    </tr>\n",
       "    <tr>\n",
       "      <th>15547</th>\n",
       "      <td>3</td>\n",
       "      <td>2.00000</td>\n",
       "      <td>2700</td>\n",
       "      <td>6120</td>\n",
       "      <td>1.00000</td>\n",
       "      <td>0</td>\n",
       "      <td>0</td>\n",
       "      <td>4</td>\n",
       "      <td>8</td>\n",
       "      <td>1350.00000</td>\n",
       "      <td>1350</td>\n",
       "      <td>1700</td>\n",
       "      <td>4590</td>\n",
       "    </tr>\n",
       "    <tr>\n",
       "      <th>8067</th>\n",
       "      <td>2</td>\n",
       "      <td>1.75000</td>\n",
       "      <td>2050</td>\n",
       "      <td>4000</td>\n",
       "      <td>1.50000</td>\n",
       "      <td>0</td>\n",
       "      <td>2</td>\n",
       "      <td>3</td>\n",
       "      <td>8</td>\n",
       "      <td>2050.00000</td>\n",
       "      <td>0</td>\n",
       "      <td>1940</td>\n",
       "      <td>4000</td>\n",
       "    </tr>\n",
       "    <tr>\n",
       "      <th>...</th>\n",
       "      <td>...</td>\n",
       "      <td>...</td>\n",
       "      <td>...</td>\n",
       "      <td>...</td>\n",
       "      <td>...</td>\n",
       "      <td>...</td>\n",
       "      <td>...</td>\n",
       "      <td>...</td>\n",
       "      <td>...</td>\n",
       "      <td>...</td>\n",
       "      <td>...</td>\n",
       "      <td>...</td>\n",
       "      <td>...</td>\n",
       "    </tr>\n",
       "    <tr>\n",
       "      <th>16678</th>\n",
       "      <td>2</td>\n",
       "      <td>1.00000</td>\n",
       "      <td>1030</td>\n",
       "      <td>6000</td>\n",
       "      <td>1.00000</td>\n",
       "      <td>0</td>\n",
       "      <td>0</td>\n",
       "      <td>3</td>\n",
       "      <td>7</td>\n",
       "      <td>1030.00000</td>\n",
       "      <td>0</td>\n",
       "      <td>1510</td>\n",
       "      <td>5000</td>\n",
       "    </tr>\n",
       "    <tr>\n",
       "      <th>531</th>\n",
       "      <td>2</td>\n",
       "      <td>1.50000</td>\n",
       "      <td>1360</td>\n",
       "      <td>1898</td>\n",
       "      <td>2.00000</td>\n",
       "      <td>0</td>\n",
       "      <td>0</td>\n",
       "      <td>3</td>\n",
       "      <td>7</td>\n",
       "      <td>1360.00000</td>\n",
       "      <td>0</td>\n",
       "      <td>1360</td>\n",
       "      <td>1898</td>\n",
       "    </tr>\n",
       "    <tr>\n",
       "      <th>8980</th>\n",
       "      <td>4</td>\n",
       "      <td>2.00000</td>\n",
       "      <td>1720</td>\n",
       "      <td>5472</td>\n",
       "      <td>1.00000</td>\n",
       "      <td>0</td>\n",
       "      <td>0</td>\n",
       "      <td>3</td>\n",
       "      <td>6</td>\n",
       "      <td>860.00000</td>\n",
       "      <td>860</td>\n",
       "      <td>1720</td>\n",
       "      <td>5670</td>\n",
       "    </tr>\n",
       "    <tr>\n",
       "      <th>3659</th>\n",
       "      <td>3</td>\n",
       "      <td>2.50000</td>\n",
       "      <td>2490</td>\n",
       "      <td>4904</td>\n",
       "      <td>2.00000</td>\n",
       "      <td>0</td>\n",
       "      <td>0</td>\n",
       "      <td>3</td>\n",
       "      <td>9</td>\n",
       "      <td>2490.00000</td>\n",
       "      <td>0</td>\n",
       "      <td>2370</td>\n",
       "      <td>4050</td>\n",
       "    </tr>\n",
       "    <tr>\n",
       "      <th>4073</th>\n",
       "      <td>3</td>\n",
       "      <td>3.50000</td>\n",
       "      <td>2050</td>\n",
       "      <td>2020</td>\n",
       "      <td>2.00000</td>\n",
       "      <td>0</td>\n",
       "      <td>0</td>\n",
       "      <td>3</td>\n",
       "      <td>8</td>\n",
       "      <td>1520.00000</td>\n",
       "      <td>530</td>\n",
       "      <td>1230</td>\n",
       "      <td>3640</td>\n",
       "    </tr>\n",
       "  </tbody>\n",
       "</table>\n",
       "<p>10588 rows × 13 columns</p>\n",
       "</div>"
      ],
      "text/plain": [
       "       bedrooms  bathrooms  sqft_living  sqft_lot  floors  waterfront  view  \\\n",
       "18099         2    1.00000          890      8100 1.00000           0     0   \n",
       "15609         3    2.00000         1470      1691 2.00000           0     0   \n",
       "5877          3    2.00000         1880      3048 2.00000           0     0   \n",
       "15547         3    2.00000         2700      6120 1.00000           0     0   \n",
       "8067          2    1.75000         2050      4000 1.50000           0     2   \n",
       "...         ...        ...          ...       ...     ...         ...   ...   \n",
       "16678         2    1.00000         1030      6000 1.00000           0     0   \n",
       "531           2    1.50000         1360      1898 2.00000           0     0   \n",
       "8980          4    2.00000         1720      5472 1.00000           0     0   \n",
       "3659          3    2.50000         2490      4904 2.00000           0     0   \n",
       "4073          3    3.50000         2050      2020 2.00000           0     0   \n",
       "\n",
       "       condition  grade  sqft_above  sqft_basement  sqft_living15  sqft_lot15  \n",
       "18099          3      6   890.00000              0           1260        8100  \n",
       "15609          3      8  1000.00000            470           1660        4000  \n",
       "5877           4      7  1880.00000              0           1680        3600  \n",
       "15547          4      8  1350.00000           1350           1700        4590  \n",
       "8067           3      8  2050.00000              0           1940        4000  \n",
       "...          ...    ...         ...            ...            ...         ...  \n",
       "16678          3      7  1030.00000              0           1510        5000  \n",
       "531            3      7  1360.00000              0           1360        1898  \n",
       "8980           3      6   860.00000            860           1720        5670  \n",
       "3659           3      9  2490.00000              0           2370        4050  \n",
       "4073           3      8  1520.00000            530           1230        3640  \n",
       "\n",
       "[10588 rows x 13 columns]"
      ]
     },
     "execution_count": 116,
     "metadata": {},
     "output_type": "execute_result"
    }
   ],
   "source": [
    "X_train"
   ]
  },
  {
   "cell_type": "code",
   "execution_count": 117,
   "id": "66c4b541",
   "metadata": {},
   "outputs": [
    {
     "data": {
      "text/plain": [
       "18099   11.91839\n",
       "15609   13.19932\n",
       "5877    13.01689\n",
       "15547   13.72120\n",
       "8067    13.62314\n",
       "          ...   \n",
       "16678   12.62807\n",
       "531     12.20607\n",
       "8980    12.52453\n",
       "3659    13.35980\n",
       "4073    13.54239\n",
       "Name: log_price, Length: 10588, dtype: float64"
      ]
     },
     "execution_count": 117,
     "metadata": {},
     "output_type": "execute_result"
    }
   ],
   "source": [
    "y_train"
   ]
  },
  {
   "cell_type": "code",
   "execution_count": 121,
   "id": "f808f627",
   "metadata": {},
   "outputs": [
    {
     "data": {
      "text/plain": [
       "0.5932753342529873"
      ]
     },
     "execution_count": 121,
     "metadata": {},
     "output_type": "execute_result"
    }
   ],
   "source": [
    "lr1= LinearRegression().fit(X_train,y_train)\n",
    "lr1.score(X_valid,y_valid)"
   ]
  },
  {
   "cell_type": "code",
   "execution_count": null,
   "id": "0b934e64",
   "metadata": {},
   "outputs": [],
   "source": []
  },
  {
   "cell_type": "code",
   "execution_count": 145,
   "id": "eda0b874",
   "metadata": {},
   "outputs": [
    {
     "data": {
      "text/plain": [
       "18099   11670.95927\n",
       "15609   10538.34625\n",
       "5877    10686.04193\n",
       "15547   10137.52822\n",
       "8067    10210.49953\n",
       "            ...    \n",
       "16678   11015.07067\n",
       "531     11395.88916\n",
       "8980    11106.13262\n",
       "3659    10411.75818\n",
       "4073    10271.38230\n",
       "Name: log_price, Length: 10588, dtype: float64"
      ]
     },
     "execution_count": 145,
     "metadata": {},
     "output_type": "execute_result"
    }
   ],
   "source": [
    "mape= np.mean(np.abs(np.exp(y_valid)-np.exp(lr1.predict(X_valid))))/y_train\n",
    "mape"
   ]
  },
  {
   "cell_type": "code",
   "execution_count": 139,
   "id": "1034135f",
   "metadata": {},
   "outputs": [
    {
     "data": {
      "text/plain": [
       "bedrooms         0\n",
       "bathrooms        0\n",
       "sqft_living      0\n",
       "sqft_lot         0\n",
       "floors           0\n",
       "waterfront       0\n",
       "view             0\n",
       "condition        0\n",
       "grade            0\n",
       "sqft_above       0\n",
       "sqft_basement    0\n",
       "sqft_living15    0\n",
       "sqft_lot15       0\n",
       "dtype: int64"
      ]
     },
     "execution_count": 139,
     "metadata": {},
     "output_type": "execute_result"
    }
   ],
   "source": [
    "X_train.isna().sum()"
   ]
  },
  {
   "cell_type": "code",
   "execution_count": 141,
   "id": "074b7f9d",
   "metadata": {},
   "outputs": [
    {
     "data": {
      "text/plain": [
       "18099   150000.00000\n",
       "15609   540000.00000\n",
       "5877    449950.00000\n",
       "15547   910000.00000\n",
       "8067    825000.00000\n",
       "            ...     \n",
       "16678   305000.00000\n",
       "531     200000.00000\n",
       "8980    275000.00000\n",
       "3659    634000.00000\n",
       "4073    761000.00000\n",
       "Name: log_price, Length: 10588, dtype: float64"
      ]
     },
     "execution_count": 141,
     "metadata": {},
     "output_type": "execute_result"
    }
   ],
   "source": [
    "np.exp(y_train)"
   ]
  },
  {
   "cell_type": "code",
   "execution_count": 156,
   "id": "9264d14c",
   "metadata": {},
   "outputs": [
    {
     "data": {
      "text/plain": [
       "array([717219.01278968, 380726.87825631, 424603.52013717, ...,\n",
       "       430339.00921112, 850856.05544175, 451770.63160025])"
      ]
     },
     "execution_count": 156,
     "metadata": {},
     "output_type": "execute_result"
    }
   ],
   "source": [
    "y_pred= np.exp(lr1.predict(X_valid))\n",
    "y_pred"
   ]
  },
  {
   "cell_type": "code",
   "execution_count": 157,
   "id": "7a367033",
   "metadata": {},
   "outputs": [
    {
     "data": {
      "text/plain": [
       "0.0"
      ]
     },
     "execution_count": 157,
     "metadata": {},
     "output_type": "execute_result"
    }
   ],
   "source": [
    "mape= (np.sum(np.abs(np.exp(y_valid)-y_pred)/y_train))*100\n",
    "mape"
   ]
  },
  {
   "cell_type": "code",
   "execution_count": null,
   "id": "48cbb4c4",
   "metadata": {},
   "outputs": [],
   "source": [
    "y-y_pred/y"
   ]
  },
  {
   "cell_type": "code",
   "execution_count": null,
   "id": "b28f170f",
   "metadata": {},
   "outputs": [],
   "source": [
    "#How to write \n",
    "Exp1: Target variables\n",
    "    Predictors\n",
    "    R_2\n",
    "    Train MAE\n",
    "    Train MAPE\n",
    "    valid MAE\n",
    "    valid MAPE:\n",
    "    Conclusion"
   ]
  },
  {
   "cell_type": "code",
   "execution_count": null,
   "id": "8cc58235",
   "metadata": {},
   "outputs": [],
   "source": [
    "create the dummy variable for the variable zip code"
   ]
  }
 ],
 "metadata": {
  "kernelspec": {
   "display_name": "Python 3",
   "language": "python",
   "name": "python3"
  },
  "language_info": {
   "codemirror_mode": {
    "name": "ipython",
    "version": 3
   },
   "file_extension": ".py",
   "mimetype": "text/x-python",
   "name": "python",
   "nbconvert_exporter": "python",
   "pygments_lexer": "ipython3",
   "version": "3.8.8"
  }
 },
 "nbformat": 4,
 "nbformat_minor": 5
}
